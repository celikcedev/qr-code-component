{
  "nbformat": 4,
  "nbformat_minor": 0,
  "metadata": {
    "colab": {
      "provenance": [],
      "authorship_tag": "ABX9TyNDBaLsLKXE2uH9XrVqXXWr",
      "include_colab_link": true
    },
    "kernelspec": {
      "name": "python3",
      "display_name": "Python 3"
    },
    "language_info": {
      "name": "python"
    }
  },
  "cells": [
    {
      "cell_type": "markdown",
      "metadata": {
        "id": "view-in-github",
        "colab_type": "text"
      },
      "source": [
        "<a href=\"https://colab.research.google.com/github/celikcedev/qr-code-component/blob/main/lastday_multi_reversal_trend_signals.ipynb\" target=\"_parent\"><img src=\"https://colab.research.google.com/assets/colab-badge.svg\" alt=\"Open In Colab\"/></a>"
      ]
    },
    {
      "cell_type": "code",
      "execution_count": null,
      "metadata": {
        "colab": {
          "base_uri": "https://localhost:8080/"
        },
        "id": "lR-8pW5z-xlL",
        "outputId": "5e13f2fc-3005-427f-f644-cbb0c8d96acc"
      },
      "outputs": [
        {
          "output_type": "stream",
          "name": "stdout",
          "text": [
            "Requirement already satisfied: yfinance in /usr/local/lib/python3.10/dist-packages (0.2.46)\n",
            "Requirement already satisfied: pandas in /usr/local/lib/python3.10/dist-packages (2.2.2)\n",
            "Requirement already satisfied: matplotlib in /usr/local/lib/python3.10/dist-packages (3.7.1)\n",
            "Requirement already satisfied: tradingview-screener in /usr/local/lib/python3.10/dist-packages (2.5.0)\n",
            "Requirement already satisfied: numpy>=1.16.5 in /usr/local/lib/python3.10/dist-packages (from yfinance) (1.26.4)\n",
            "Requirement already satisfied: requests>=2.31 in /usr/local/lib/python3.10/dist-packages (from yfinance) (2.32.3)\n",
            "Requirement already satisfied: multitasking>=0.0.7 in /usr/local/lib/python3.10/dist-packages (from yfinance) (0.0.11)\n",
            "Requirement already satisfied: lxml>=4.9.1 in /usr/local/lib/python3.10/dist-packages (from yfinance) (4.9.4)\n",
            "Requirement already satisfied: platformdirs>=2.0.0 in /usr/local/lib/python3.10/dist-packages (from yfinance) (4.3.6)\n",
            "Requirement already satisfied: pytz>=2022.5 in /usr/local/lib/python3.10/dist-packages (from yfinance) (2024.2)\n",
            "Requirement already satisfied: frozendict>=2.3.4 in /usr/local/lib/python3.10/dist-packages (from yfinance) (2.4.6)\n",
            "Requirement already satisfied: peewee>=3.16.2 in /usr/local/lib/python3.10/dist-packages (from yfinance) (3.17.7)\n",
            "Requirement already satisfied: beautifulsoup4>=4.11.1 in /usr/local/lib/python3.10/dist-packages (from yfinance) (4.12.3)\n",
            "Requirement already satisfied: html5lib>=1.1 in /usr/local/lib/python3.10/dist-packages (from yfinance) (1.1)\n",
            "Requirement already satisfied: python-dateutil>=2.8.2 in /usr/local/lib/python3.10/dist-packages (from pandas) (2.8.2)\n",
            "Requirement already satisfied: tzdata>=2022.7 in /usr/local/lib/python3.10/dist-packages (from pandas) (2024.2)\n",
            "Requirement already satisfied: contourpy>=1.0.1 in /usr/local/lib/python3.10/dist-packages (from matplotlib) (1.3.0)\n",
            "Requirement already satisfied: cycler>=0.10 in /usr/local/lib/python3.10/dist-packages (from matplotlib) (0.12.1)\n",
            "Requirement already satisfied: fonttools>=4.22.0 in /usr/local/lib/python3.10/dist-packages (from matplotlib) (4.54.1)\n",
            "Requirement already satisfied: kiwisolver>=1.0.1 in /usr/local/lib/python3.10/dist-packages (from matplotlib) (1.4.7)\n",
            "Requirement already satisfied: packaging>=20.0 in /usr/local/lib/python3.10/dist-packages (from matplotlib) (24.1)\n",
            "Requirement already satisfied: pillow>=6.2.0 in /usr/local/lib/python3.10/dist-packages (from matplotlib) (10.4.0)\n",
            "Requirement already satisfied: pyparsing>=2.3.1 in /usr/local/lib/python3.10/dist-packages (from matplotlib) (3.2.0)\n",
            "Requirement already satisfied: soupsieve>1.2 in /usr/local/lib/python3.10/dist-packages (from beautifulsoup4>=4.11.1->yfinance) (2.6)\n",
            "Requirement already satisfied: six>=1.9 in /usr/local/lib/python3.10/dist-packages (from html5lib>=1.1->yfinance) (1.16.0)\n",
            "Requirement already satisfied: webencodings in /usr/local/lib/python3.10/dist-packages (from html5lib>=1.1->yfinance) (0.5.1)\n",
            "Requirement already satisfied: charset-normalizer<4,>=2 in /usr/local/lib/python3.10/dist-packages (from requests>=2.31->yfinance) (3.4.0)\n",
            "Requirement already satisfied: idna<4,>=2.5 in /usr/local/lib/python3.10/dist-packages (from requests>=2.31->yfinance) (3.10)\n",
            "Requirement already satisfied: urllib3<3,>=1.21.1 in /usr/local/lib/python3.10/dist-packages (from requests>=2.31->yfinance) (2.2.3)\n",
            "Requirement already satisfied: certifi>=2017.4.17 in /usr/local/lib/python3.10/dist-packages (from requests>=2.31->yfinance) (2024.8.30)\n"
          ]
        }
      ],
      "source": [
        "!pip install yfinance pandas matplotlib tradingview-screener"
      ]
    },
    {
      "cell_type": "code",
      "source": [
        "url = 'https://anaconda.org/conda-forge/libta-lib/0.4.0/download/linux-64/libta-lib-0.4.0-h166bdaf_1.tar.bz2'\n",
        "!curl -L $url | tar xj -C /usr/lib/x86_64-linux-gnu/ lib --strip-components=1\n",
        "url = 'https://anaconda.org/conda-forge/ta-lib/0.4.19/download/linux-64/ta-lib-0.4.19-py310hde88566_4.tar.bz2'\n",
        "!curl -L $url | tar xj -C /usr/local/lib/python3.10/dist-packages/ lib/python3.10/site-packages/talib --strip-components=3"
      ],
      "metadata": {
        "colab": {
          "base_uri": "https://localhost:8080/"
        },
        "id": "Va2OFkgt_dJg",
        "outputId": "eb5b3dec-342b-4ec3-8f20-2a46e7206ee7"
      },
      "execution_count": null,
      "outputs": [
        {
          "output_type": "stream",
          "name": "stdout",
          "text": [
            "  % Total    % Received % Xferd  Average Speed   Time    Time     Time  Current\n",
            "                                 Dload  Upload   Total   Spent    Left  Speed\n",
            "100  4123    0  4123    0     0  13412      0 --:--:-- --:--:-- --:--:-- 13429\n",
            "100  517k  100  517k    0     0   623k      0 --:--:-- --:--:-- --:--:--  623k\n",
            "  % Total    % Received % Xferd  Average Speed   Time    Time     Time  Current\n",
            "                                 Dload  Upload   Total   Spent    Left  Speed\n",
            "100  4159    0  4159    0     0   4182      0 --:--:-- --:--:-- --:--:--  4179\n",
            "100  392k  100  392k    0     0   322k      0  0:00:01  0:00:01 --:--:--  322k\n"
          ]
        }
      ]
    },
    {
      "cell_type": "code",
      "source": [
        "import yfinance as yf\n",
        "import talib as ta\n",
        "import pandas as pd\n",
        "import numpy as np\n",
        "import matplotlib.pyplot as plt\n",
        "import matplotlib.dates as mdates\n",
        "from datetime import datetime, timedelta\n",
        "import warnings\n",
        "from tradingview_screener import Query, Column\n",
        "\n",
        "# PEP8 ile uyumlu hale getirmek için uyarıları engelle\n",
        "warnings.filterwarnings('ignore', category=FutureWarning)\n",
        "warnings.filterwarnings('ignore', category=UserWarning)\n",
        "warnings.filterwarnings('ignore', category=RuntimeWarning)\n",
        "\n",
        "def get_symbols() -> list:\n",
        "    \"\"\"\n",
        "    Borsa İstanbul'da işlem gören hisse senetlerinin sembollerini alır.\n",
        "\n",
        "    Returns:\n",
        "        list: Sembol isimlerini içeren liste.\n",
        "    \"\"\"\n",
        "    try:\n",
        "        symbols_tuple = (Query()\n",
        "                        .select('name')\n",
        "                        .where(\n",
        "                            Column('type').isin(['stock'])\n",
        "                        )\n",
        "                        .order_by('name', ascending=True)\n",
        "                        .set_markets('turkey')\n",
        "                        .limit(750)\n",
        "                        .get_scanner_data())\n",
        "\n",
        "        symbols = [f\"{symbol}.IS\" for symbol in symbols_tuple[1]['name']]\n",
        "        return symbols\n",
        "    except Exception as e:\n",
        "        print(f\"Sembol listesi alınırken hata oluştu: {e}\")\n",
        "        return []\n",
        "\n",
        "def fetch_stock_data(symbol):\n",
        "    \"\"\"\n",
        "    Belirtilen sembol için OHLCV verilerini indirir.\n",
        "\n",
        "    Args:\n",
        "        symbol (str): Hisse senedinin sembolü.\n",
        "\n",
        "    Returns:\n",
        "        DataFrame or None: İndirilen veriler veya None.\n",
        "    \"\"\"\n",
        "    start_date = datetime.now() - timedelta(days=150)\n",
        "    end_date = datetime.now()\n",
        "    try:\n",
        "        data = yf.download(symbol, start=start_date, end=end_date)\n",
        "        if data.empty:\n",
        "            raise ValueError(\"Veri bulunamadı veya eksik.\")\n",
        "        return data\n",
        "    except Exception as e:\n",
        "        print(f\"{symbol} için veri çekilemedi: {e}\")\n",
        "        return None\n",
        "\n",
        "def calculate_indicators(data):\n",
        "    \"\"\"\n",
        "    OHLCV verileri üzerinde indikatör hesaplamaları yapar.\n",
        "\n",
        "    Args:\n",
        "        data (DataFrame): Hisse senedine ait OHLCV verileri.\n",
        "\n",
        "    Returns:\n",
        "        DataFrame: İndikatörler eklenmiş veri.\n",
        "    \"\"\"\n",
        "    try:\n",
        "        # Verileri ndarray tipine dönüştür\n",
        "        close = data['Close'].astype(float).values\n",
        "        high = data['High'].astype(float).values\n",
        "        low = data['Low'].astype(float).values\n",
        "        open_ = data['Open'].astype(float).values\n",
        "        volume = data['Volume'].astype(float).values\n",
        "\n",
        "        # Bollinger Bandları\n",
        "        upper_band, middle_band, lower_band = ta.BBANDS(close, timeperiod=20, nbdevup=2, nbdevdn=2)\n",
        "        data['Upper_Band'] = upper_band\n",
        "        data['Middle_Band'] = middle_band\n",
        "        data['Lower_Band'] = lower_band\n",
        "\n",
        "        # MACD\n",
        "        macd, macd_signal, macd_hist = ta.MACD(close, fastperiod=12, slowperiod=26, signalperiod=9)\n",
        "        data['MACD'] = macd\n",
        "        data['MACD_Signal'] = macd_signal\n",
        "\n",
        "        # MFI\n",
        "        data['MFI'] = ta.MFI(high, low, close, volume, timeperiod=14)\n",
        "\n",
        "        # VWAP\n",
        "        data['VWAP'] = (volume * (high + low + close) / 3).cumsum() / volume.cumsum()\n",
        "\n",
        "        # Mum Formasyonları\n",
        "        # Doji, piyasanın kararsızlığını gösterir ve trendin sona erdiğini işaret edebilir.\n",
        "        data['Doji'] = ta.CDLDOJI(open_, high, low, close)\n",
        "        # Hammer ise, özellikle düşüş trendi sonunda tersine dönüş sinyali olarak güçlü bir yapı sunar.\n",
        "        data['Hammer'] = ta.CDLHAMMER(open_, high, low, close)\n",
        "\n",
        "        # Genellikle düşüş trendinden sonra ortaya çıkar ve yükselişin başlayabileceğine işaret eder.\n",
        "        data['Morning_Star'] = ta.CDLMORNINGSTAR(open_, high, low, close)\n",
        "        # Düşüş trendi sonunda görülür ve sonraki hareketin yukarı yönlü olabileceğini gösterir.\n",
        "        data['Bullish_Engulfing'] = ta.CDLENGULFING(open_, high, low, close)\n",
        "\n",
        "        return data\n",
        "    except Exception as e:\n",
        "        print(f\"İndikatör hesaplanırken hata oluştu: {e}\")\n",
        "        return data\n",
        "\n",
        "def identify_buy_signals(data):\n",
        "    \"\"\"\n",
        "    Al sinyali veren hisseleri tespit eder.\n",
        "\n",
        "    Args:\n",
        "        data (DataFrame): İndikatörler eklenmiş hisse verileri.\n",
        "\n",
        "    Returns:\n",
        "        dict: Al sinyali veren hisse bilgileri.\n",
        "    \"\"\"\n",
        "    buy_signals = {}\n",
        "    try:\n",
        "        latest = data.iloc[-1]\n",
        "\n",
        "        # Alım koşulları:\n",
        "        # 1. Fiyat VWAP'ın üzerinde\n",
        "        # 2. MFI > 50\n",
        "        # 3. MACD, MACD Signal hattını yukarı kesiyor\n",
        "        # 4. Doji veya Hammer formasyonu oluşmuş ve hacim artışı var\n",
        "        price_above_vwap = latest['Close'] > latest['VWAP']\n",
        "        mfi_condition = latest['MFI'] > 50\n",
        "        macd_condition = (latest['MACD'] > latest['MACD_Signal']) and (data['MACD'].iloc[-2] <= data['MACD_Signal'].iloc[-2])\n",
        "        candle_condition = (latest['Doji'] != 0 or latest['Hammer'] != 0) and latest['Volume'] > data['Volume'].mean()\n",
        "\n",
        "        # Bollinger Band Koşulu: Fiyat alt banda yakınsa veya orta banda geri dönüyorsa\n",
        "        bollinger_condition = latest['Close'] <= latest['Lower_Band'] or latest['Close'] >= latest['Middle_Band']\n",
        "\n",
        "        if price_above_vwap and mfi_condition and macd_condition and candle_condition and bollinger_condition:\n",
        "            # Hangi formasyonun sinyal verdiğini belirle\n",
        "            if latest['Doji'] != 0:\n",
        "                formation = 'Doji'\n",
        "            elif latest['Hammer'] != 0:\n",
        "                formation = 'Hammer'\n",
        "            elif latest['Morning_Star'] != 0:\n",
        "                formation = 'Morning Star'\n",
        "            elif latest['Bullish_Engulfing'] != 0:\n",
        "                formation = 'Bullish Engulfing'\n",
        "            else:\n",
        "                formation = 'Mum deseni bulunamadı.'\n",
        "\n",
        "            buy_signals = {\n",
        "                'Close': latest['Close'],\n",
        "                'VWAP': latest['VWAP'],\n",
        "                'MFI': latest['MFI'],\n",
        "                'MACD': latest['MACD'],\n",
        "                'MACD_Signal': latest['MACD_Signal'],\n",
        "                'Bollinger_Position': 'Near Lower Band' if latest['Close'] <= latest['Lower_Band'] else 'Near Middle Band',\n",
        "                'Candle_Formation': formation\n",
        "            }\n",
        "    except Exception as e:\n",
        "        print(f\"Al sinyali tespit edilirken hata oluştu: {e}\")\n",
        "\n",
        "    return buy_signals\n",
        "\n",
        "def plot_indicators(symbol, data, buy=False):\n",
        "    \"\"\"\n",
        "    Hisse senedi için indikatörleri ve al/sat sinyallerini grafiğe döker.\n",
        "\n",
        "    Args:\n",
        "        symbol (str): Hisse senedinin sembolü.\n",
        "        data (DataFrame): İndikatörler eklenmiş hisse verileri.\n",
        "        buy (bool): Al sinyali var mı.\n",
        "    \"\"\"\n",
        "    try:\n",
        "        plt.figure(figsize=(14, 10))\n",
        "\n",
        "        # Fiyat Grafiği ve VWAP\n",
        "        ax1 = plt.subplot(3, 1, 1)\n",
        "        ax1.plot(data.index, data['Close'], label='Close Price')\n",
        "        ax1.plot(data.index, data['VWAP'], label='VWAP', linestyle='--')\n",
        "        ax1.set_title(f\"{symbol} - Fiyat ve VWAP\")\n",
        "        ax1.legend()\n",
        "        ax1.grid(True)\n",
        "\n",
        "        if buy:\n",
        "            ax1.scatter(data.index[-1], data['Close'][-1], marker='^', color='green', label='Al Sinyali')\n",
        "            ax1.legend()\n",
        "\n",
        "        # Bollinger Bandları\n",
        "        ax2 = plt.subplot(3, 1, 2, sharex=ax1)\n",
        "        ax2.plot(data.index, data['Close'], label='Close Price')\n",
        "        ax2.plot(data.index, data['Upper_Band'], label='Upper Bollinger Band', linestyle='--', color='orange')\n",
        "        ax2.plot(data.index, data['Middle_Band'], label='Middle Bollinger Band', linestyle='-', color='grey')\n",
        "        ax2.plot(data.index, data['Lower_Band'], label='Lower Bollinger Band', linestyle='--', color='orange')\n",
        "        ax2.set_title(\"Bollinger Bandları\")\n",
        "        ax2.legend()\n",
        "        ax2.grid(True)\n",
        "\n",
        "        # MACD\n",
        "        ax3 = plt.subplot(3, 1, 3, sharex=ax1)\n",
        "        ax3.plot(data.index, data['MACD'], label='MACD', color='blue')\n",
        "        ax3.plot(data.index, data['MACD_Signal'], label='MACD Signal', color='red')\n",
        "        ax3.bar(data.index, data['MACD'] - data['MACD_Signal'], label='MACD Histogram', color='grey')\n",
        "        ax3.set_title(\"MACD\")\n",
        "        ax3.legend()\n",
        "        ax3.grid(True)\n",
        "\n",
        "        plt.tight_layout()\n",
        "        plt.show()\n",
        "    except Exception as e:\n",
        "        print(f\"Grafik çizilirken hata oluştu: {e}\")\n",
        "\n",
        "def main():\n",
        "    \"\"\"\n",
        "    Ana fonksiyon. Stratejiyi çalıştırır.\n",
        "    \"\"\"\n",
        "    # Hisse senedi sembollerini al\n",
        "    symbols = get_symbols()\n",
        "    if not symbols:\n",
        "        print(\"Sembol listesi boş. Program sonlandırılıyor.\")\n",
        "        return\n",
        "\n",
        "    buy_list = []\n",
        "\n",
        "    # Her sembol için veri indir, indikatörleri hesapla ve al sinyali kontrol et\n",
        "    for symbol in symbols:\n",
        "        print(f\"İşleniyor: {symbol}\")\n",
        "        stock_data = fetch_stock_data(symbol)\n",
        "        if stock_data is not None:\n",
        "            stock_data = calculate_indicators(stock_data)\n",
        "            buy_signal = identify_buy_signals(stock_data)\n",
        "            if buy_signal:\n",
        "                buy_list.append((symbol, buy_signal))\n",
        "                # Sinyal bilgilerini formatlı şekilde yazdır\n",
        "                print(f\"\\nAl Sinyali: {symbol}\")\n",
        "                print(f\"Close Price: {buy_signal['Close']}\")\n",
        "                print(f\"VWAP: {buy_signal['VWAP']:.2f}\")\n",
        "                print(f\"MFI: {buy_signal['MFI']:.2f}\")\n",
        "                print(f\"MACD: {buy_signal['MACD']:.2f}\")\n",
        "                print(f\"MACD Signal: {buy_signal['MACD_Signal']:.2f}\")\n",
        "                print(f\"Mum Formasyonu: {buy_signal['Candle_Formation']}\\n\")\n",
        "\n",
        "    # Al sinyali veren hisse sayısını yazdır\n",
        "    print(f\"\\nToplam Al Sinyali Veren Hisse Sayısı: {len(buy_list)}\\n\")\n",
        "\n",
        "    # Al sinyali veren hisseler için grafik çiz\n",
        "    for symbol, signal in buy_list:\n",
        "        stock_data = fetch_stock_data(symbol)\n",
        "        if stock_data is not None:\n",
        "            stock_data = calculate_indicators(stock_data)\n",
        "            plot_indicators(symbol, stock_data, buy=True)\n",
        "\n",
        "if __name__ == \"__main__\":\n",
        "    main()"
      ],
      "metadata": {
        "colab": {
          "base_uri": "https://localhost:8080/"
        },
        "id": "2VU91LGV_dTZ",
        "outputId": "85a99c3b-2bbe-4011-8373-ef13776e7368"
      },
      "execution_count": null,
      "outputs": [
        {
          "output_type": "stream",
          "name": "stderr",
          "text": [
            "[*********************100%***********************]  1 of 1 completed\n",
            "[*********************100%***********************]  1 of 1 completed"
          ]
        },
        {
          "output_type": "stream",
          "name": "stdout",
          "text": [
            "İşleniyor: A1CAP.IS\n",
            "İşleniyor: ACSEL.IS\n",
            "İşleniyor: ADEL.IS\n"
          ]
        },
        {
          "output_type": "stream",
          "name": "stderr",
          "text": [
            "\n",
            "[*********************100%***********************]  1 of 1 completed\n",
            "[*********************100%***********************]  1 of 1 completed\n",
            "[*********************100%***********************]  1 of 1 completed\n"
          ]
        },
        {
          "output_type": "stream",
          "name": "stdout",
          "text": [
            "İşleniyor: ADESE.IS\n",
            "İşleniyor: ADGYO.IS\n",
            "İşleniyor: AEFES.IS\n"
          ]
        },
        {
          "output_type": "stream",
          "name": "stderr",
          "text": [
            "[*********************100%***********************]  1 of 1 completed\n",
            "[*********************100%***********************]  1 of 1 completed\n",
            "[*********************100%***********************]  1 of 1 completed\n"
          ]
        },
        {
          "output_type": "stream",
          "name": "stdout",
          "text": [
            "İşleniyor: AFYON.IS\n",
            "İşleniyor: AGESA.IS\n",
            "İşleniyor: AGHOL.IS\n"
          ]
        },
        {
          "output_type": "stream",
          "name": "stderr",
          "text": [
            "[*********************100%***********************]  1 of 1 completed\n",
            "[*********************100%***********************]  1 of 1 completed\n",
            "[*********************100%***********************]  1 of 1 completed\n"
          ]
        },
        {
          "output_type": "stream",
          "name": "stdout",
          "text": [
            "İşleniyor: AGROT.IS\n",
            "İşleniyor: AHGAZ.IS\n",
            "İşleniyor: AHSGY.IS\n"
          ]
        },
        {
          "output_type": "stream",
          "name": "stderr",
          "text": [
            "[*********************100%***********************]  1 of 1 completed\n",
            "[*********************100%***********************]  1 of 1 completed\n",
            "[*********************100%***********************]  1 of 1 completed\n"
          ]
        },
        {
          "output_type": "stream",
          "name": "stdout",
          "text": [
            "İşleniyor: AKBNK.IS\n",
            "İşleniyor: AKCNS.IS\n",
            "İşleniyor: AKENR.IS\n"
          ]
        },
        {
          "output_type": "stream",
          "name": "stderr",
          "text": [
            "[*********************100%***********************]  1 of 1 completed\n",
            "[*********************100%***********************]  1 of 1 completed\n",
            "[*********************100%***********************]  1 of 1 completed\n"
          ]
        },
        {
          "output_type": "stream",
          "name": "stdout",
          "text": [
            "İşleniyor: AKFYE.IS\n",
            "İşleniyor: AKGRT.IS\n",
            "İşleniyor: AKSA.IS\n"
          ]
        },
        {
          "output_type": "stream",
          "name": "stderr",
          "text": [
            "[*********************100%***********************]  1 of 1 completed\n",
            "[*********************100%***********************]  1 of 1 completed\n",
            "[*********************100%***********************]  1 of 1 completed\n"
          ]
        },
        {
          "output_type": "stream",
          "name": "stdout",
          "text": [
            "İşleniyor: AKSEN.IS\n",
            "İşleniyor: AKSUE.IS\n",
            "İşleniyor: AKYHO.IS\n"
          ]
        },
        {
          "output_type": "stream",
          "name": "stderr",
          "text": [
            "[*********************100%***********************]  1 of 1 completed\n",
            "[*********************100%***********************]  1 of 1 completed\n",
            "[*********************100%***********************]  1 of 1 completed\n"
          ]
        },
        {
          "output_type": "stream",
          "name": "stdout",
          "text": [
            "İşleniyor: ALARK.IS\n",
            "İşleniyor: ALBRK.IS\n",
            "İşleniyor: ALCAR.IS\n"
          ]
        },
        {
          "output_type": "stream",
          "name": "stderr",
          "text": [
            "[*********************100%***********************]  1 of 1 completed\n",
            "[*********************100%***********************]  1 of 1 completed\n",
            "[*********************100%***********************]  1 of 1 completed\n"
          ]
        },
        {
          "output_type": "stream",
          "name": "stdout",
          "text": [
            "İşleniyor: ALCTL.IS\n",
            "İşleniyor: ALFAS.IS\n",
            "İşleniyor: ALKA.IS\n"
          ]
        },
        {
          "output_type": "stream",
          "name": "stderr",
          "text": [
            "[*********************100%***********************]  1 of 1 completed\n",
            "[*********************100%***********************]  1 of 1 completed\n",
            "[*********************100%***********************]  1 of 1 completed\n"
          ]
        },
        {
          "output_type": "stream",
          "name": "stdout",
          "text": [
            "İşleniyor: ALKIM.IS\n",
            "İşleniyor: ALKLC.IS\n",
            "İşleniyor: ALMAD.IS\n"
          ]
        },
        {
          "output_type": "stream",
          "name": "stderr",
          "text": [
            "[*********************100%***********************]  1 of 1 completed\n",
            "[*********************100%***********************]  1 of 1 completed\n",
            "ERROR:yfinance:\n",
            "1 Failed download:\n",
            "ERROR:yfinance:['ALTIN.IS']: YFPricesMissingError('$%ticker%: possibly delisted; no price data found  (1d 2024-05-28 17:26:23.645178 -> 2024-10-25 17:26:23.645192)')\n",
            "[*********************100%***********************]  1 of 1 completed\n"
          ]
        },
        {
          "output_type": "stream",
          "name": "stdout",
          "text": [
            "İşleniyor: ALTIN.IS\n",
            "ALTIN.IS için veri çekilemedi: Veri bulunamadı veya eksik.\n",
            "İşleniyor: ALTNY.IS\n",
            "İşleniyor: ALVES.IS\n"
          ]
        },
        {
          "output_type": "stream",
          "name": "stderr",
          "text": [
            "[*********************100%***********************]  1 of 1 completed\n",
            "[*********************100%***********************]  1 of 1 completed\n",
            "[*********************100%***********************]  1 of 1 completed\n"
          ]
        },
        {
          "output_type": "stream",
          "name": "stdout",
          "text": [
            "İşleniyor: ANELE.IS\n",
            "İşleniyor: ANGEN.IS\n",
            "İşleniyor: ANHYT.IS\n"
          ]
        },
        {
          "output_type": "stream",
          "name": "stderr",
          "text": [
            "[*********************100%***********************]  1 of 1 completed\n",
            "[*********************100%***********************]  1 of 1 completed\n",
            "[*********************100%***********************]  1 of 1 completed\n"
          ]
        },
        {
          "output_type": "stream",
          "name": "stdout",
          "text": [
            "İşleniyor: ANSGR.IS\n",
            "İşleniyor: ARASE.IS\n",
            "İşleniyor: ARCLK.IS\n"
          ]
        },
        {
          "output_type": "stream",
          "name": "stderr",
          "text": [
            "[*********************100%***********************]  1 of 1 completed\n",
            "[*********************100%***********************]  1 of 1 completed\n",
            "[*********************100%***********************]  1 of 1 completed\n"
          ]
        },
        {
          "output_type": "stream",
          "name": "stdout",
          "text": [
            "İşleniyor: ARDYZ.IS\n",
            "İşleniyor: ARENA.IS\n",
            "İşleniyor: ARSAN.IS\n"
          ]
        },
        {
          "output_type": "stream",
          "name": "stderr",
          "text": [
            "[*********************100%***********************]  1 of 1 completed\n",
            "[*********************100%***********************]  1 of 1 completed\n",
            "[*********************100%***********************]  1 of 1 completed\n"
          ]
        },
        {
          "output_type": "stream",
          "name": "stdout",
          "text": [
            "İşleniyor: ARTMS.IS\n",
            "İşleniyor: ARZUM.IS\n",
            "İşleniyor: ASELS.IS\n"
          ]
        },
        {
          "output_type": "stream",
          "name": "stderr",
          "text": [
            "[*********************100%***********************]  1 of 1 completed\n",
            "[*********************100%***********************]  1 of 1 completed\n"
          ]
        },
        {
          "output_type": "stream",
          "name": "stdout",
          "text": [
            "İşleniyor: ASTOR.IS\n",
            "İşleniyor: ASUZU.IS\n"
          ]
        },
        {
          "output_type": "stream",
          "name": "stderr",
          "text": [
            "[*********************100%***********************]  1 of 1 completed\n",
            "[*********************100%***********************]  1 of 1 completed\n",
            "[*********************100%***********************]  1 of 1 completed\n"
          ]
        },
        {
          "output_type": "stream",
          "name": "stdout",
          "text": [
            "İşleniyor: ATAKP.IS\n",
            "İşleniyor: ATATP.IS\n",
            "İşleniyor: ATEKS.IS\n"
          ]
        },
        {
          "output_type": "stream",
          "name": "stderr",
          "text": [
            "[*********************100%***********************]  1 of 1 completed\n",
            "[*********************100%***********************]  1 of 1 completed\n",
            "[*********************100%***********************]  1 of 1 completed"
          ]
        },
        {
          "output_type": "stream",
          "name": "stdout",
          "text": [
            "İşleniyor: ATLAS.IS\n",
            "İşleniyor: ATSYH.IS\n"
          ]
        },
        {
          "output_type": "stream",
          "name": "stderr",
          "text": [
            "\n",
            "[*********************100%***********************]  1 of 1 completed\n",
            "[*********************100%***********************]  1 of 1 completed\n"
          ]
        },
        {
          "output_type": "stream",
          "name": "stdout",
          "text": [
            "İşleniyor: AVGYO.IS\n",
            "İşleniyor: AVHOL.IS\n",
            "İşleniyor: AVOD.IS\n"
          ]
        },
        {
          "output_type": "stream",
          "name": "stderr",
          "text": [
            "[*********************100%***********************]  1 of 1 completed\n",
            "[*********************100%***********************]  1 of 1 completed\n",
            "[*********************100%***********************]  1 of 1 completed\n"
          ]
        },
        {
          "output_type": "stream",
          "name": "stdout",
          "text": [
            "İşleniyor: AVPGY.IS\n",
            "İşleniyor: AYCES.IS\n",
            "İşleniyor: AYDEM.IS\n"
          ]
        },
        {
          "output_type": "stream",
          "name": "stderr",
          "text": [
            "[*********************100%***********************]  1 of 1 completed\n",
            "[*********************100%***********************]  1 of 1 completed\n",
            "[*********************100%***********************]  1 of 1 completed\n"
          ]
        },
        {
          "output_type": "stream",
          "name": "stdout",
          "text": [
            "İşleniyor: AYEN.IS\n",
            "İşleniyor: AYES.IS\n",
            "İşleniyor: AYGAZ.IS\n"
          ]
        },
        {
          "output_type": "stream",
          "name": "stderr",
          "text": [
            "[*********************100%***********************]  1 of 1 completed\n",
            "[*********************100%***********************]  1 of 1 completed\n"
          ]
        },
        {
          "output_type": "stream",
          "name": "stdout",
          "text": [
            "İşleniyor: AZTEK.IS\n",
            "İşleniyor: BAGFS.IS\n"
          ]
        },
        {
          "output_type": "stream",
          "name": "stderr",
          "text": [
            "[*********************100%***********************]  1 of 1 completed\n",
            "[*********************100%***********************]  1 of 1 completed\n",
            "[*********************100%***********************]  1 of 1 completed\n"
          ]
        },
        {
          "output_type": "stream",
          "name": "stdout",
          "text": [
            "İşleniyor: BAHKM.IS\n",
            "İşleniyor: BAKAB.IS\n",
            "İşleniyor: BALAT.IS\n"
          ]
        },
        {
          "output_type": "stream",
          "name": "stderr",
          "text": [
            "[*********************100%***********************]  1 of 1 completed\n",
            "[*********************100%***********************]  1 of 1 completed\n",
            "[*********************100%***********************]  1 of 1 completed\n"
          ]
        },
        {
          "output_type": "stream",
          "name": "stdout",
          "text": [
            "İşleniyor: BANVT.IS\n",
            "İşleniyor: BARMA.IS\n",
            "İşleniyor: BASCM.IS\n"
          ]
        },
        {
          "output_type": "stream",
          "name": "stderr",
          "text": [
            "[*********************100%***********************]  1 of 1 completed\n",
            "[*********************100%***********************]  1 of 1 completed\n",
            "[*********************100%***********************]  1 of 1 completed\n"
          ]
        },
        {
          "output_type": "stream",
          "name": "stdout",
          "text": [
            "İşleniyor: BASGZ.IS\n",
            "İşleniyor: BAYRK.IS\n",
            "İşleniyor: BEGYO.IS\n"
          ]
        },
        {
          "output_type": "stream",
          "name": "stderr",
          "text": [
            "[*********************100%***********************]  1 of 1 completed\n",
            "[*********************100%***********************]  1 of 1 completed\n",
            "[*********************100%***********************]  1 of 1 completed\n"
          ]
        },
        {
          "output_type": "stream",
          "name": "stdout",
          "text": [
            "İşleniyor: BERA.IS\n",
            "İşleniyor: BEYAZ.IS\n",
            "İşleniyor: BFREN.IS\n"
          ]
        },
        {
          "output_type": "stream",
          "name": "stderr",
          "text": [
            "[*********************100%***********************]  1 of 1 completed\n",
            "[*********************100%***********************]  1 of 1 completed\n",
            "[*********************100%***********************]  1 of 1 completed\n"
          ]
        },
        {
          "output_type": "stream",
          "name": "stdout",
          "text": [
            "İşleniyor: BIENY.IS\n",
            "İşleniyor: BIGCH.IS\n",
            "İşleniyor: BIMAS.IS\n"
          ]
        },
        {
          "output_type": "stream",
          "name": "stderr",
          "text": [
            "[*********************100%***********************]  1 of 1 completed\n",
            "[*********************100%***********************]  1 of 1 completed\n",
            "[*********************100%***********************]  1 of 1 completed\n",
            "[*********************100%***********************]  1 of 1 completed"
          ]
        },
        {
          "output_type": "stream",
          "name": "stdout",
          "text": [
            "İşleniyor: BINBN.IS\n",
            "İşleniyor: BINHO.IS\n",
            "İşleniyor: BIOEN.IS\n"
          ]
        },
        {
          "output_type": "stream",
          "name": "stderr",
          "text": [
            "\n",
            "[*********************100%***********************]  1 of 1 completed\n",
            "[*********************100%***********************]  1 of 1 completed\n"
          ]
        },
        {
          "output_type": "stream",
          "name": "stdout",
          "text": [
            "İşleniyor: BIZIM.IS\n",
            "İşleniyor: BJKAS.IS\n",
            "İşleniyor: BLCYT.IS\n"
          ]
        },
        {
          "output_type": "stream",
          "name": "stderr",
          "text": [
            "[*********************100%***********************]  1 of 1 completed\n",
            "[*********************100%***********************]  1 of 1 completed\n",
            "[*********************100%***********************]  1 of 1 completed\n"
          ]
        },
        {
          "output_type": "stream",
          "name": "stdout",
          "text": [
            "İşleniyor: BMSCH.IS\n",
            "İşleniyor: BMSTL.IS\n",
            "İşleniyor: BNTAS.IS\n"
          ]
        },
        {
          "output_type": "stream",
          "name": "stderr",
          "text": [
            "[*********************100%***********************]  1 of 1 completed\n",
            "[*********************100%***********************]  1 of 1 completed\n",
            "[*********************100%***********************]  1 of 1 completed\n"
          ]
        },
        {
          "output_type": "stream",
          "name": "stdout",
          "text": [
            "İşleniyor: BOBET.IS\n",
            "İşleniyor: BORLS.IS\n",
            "İşleniyor: BORSK.IS\n"
          ]
        },
        {
          "output_type": "stream",
          "name": "stderr",
          "text": [
            "[*********************100%***********************]  1 of 1 completed\n",
            "[*********************100%***********************]  1 of 1 completed\n",
            "[*********************100%***********************]  1 of 1 completed\n"
          ]
        },
        {
          "output_type": "stream",
          "name": "stdout",
          "text": [
            "İşleniyor: BOSSA.IS\n",
            "İşleniyor: BRISA.IS\n",
            "İşleniyor: BRKO.IS\n"
          ]
        },
        {
          "output_type": "stream",
          "name": "stderr",
          "text": [
            "[*********************100%***********************]  1 of 1 completed\n",
            "[*********************100%***********************]  1 of 1 completed\n",
            "[*********************100%***********************]  1 of 1 completed\n"
          ]
        },
        {
          "output_type": "stream",
          "name": "stdout",
          "text": [
            "İşleniyor: BRKSN.IS\n",
            "İşleniyor: BRKVY.IS\n",
            "İşleniyor: BRLSM.IS\n"
          ]
        },
        {
          "output_type": "stream",
          "name": "stderr",
          "text": [
            "[*********************100%***********************]  1 of 1 completed\n",
            "[*********************100%***********************]  1 of 1 completed\n",
            "[*********************100%***********************]  1 of 1 completed\n"
          ]
        },
        {
          "output_type": "stream",
          "name": "stdout",
          "text": [
            "İşleniyor: BRMEN.IS\n",
            "İşleniyor: BRSAN.IS\n",
            "İşleniyor: BRYAT.IS\n"
          ]
        },
        {
          "output_type": "stream",
          "name": "stderr",
          "text": [
            "[*********************100%***********************]  1 of 1 completed\n",
            "[*********************100%***********************]  1 of 1 completed\n",
            "[*********************100%***********************]  1 of 1 completed\n"
          ]
        },
        {
          "output_type": "stream",
          "name": "stdout",
          "text": [
            "İşleniyor: BSOKE.IS\n",
            "İşleniyor: BTCIM.IS\n",
            "İşleniyor: BUCIM.IS\n"
          ]
        },
        {
          "output_type": "stream",
          "name": "stderr",
          "text": [
            "[*********************100%***********************]  1 of 1 completed\n",
            "[*********************100%***********************]  1 of 1 completed\n",
            "[*********************100%***********************]  1 of 1 completed\n"
          ]
        },
        {
          "output_type": "stream",
          "name": "stdout",
          "text": [
            "İşleniyor: BURCE.IS\n",
            "İşleniyor: BURVA.IS\n",
            "İşleniyor: BVSAN.IS\n"
          ]
        },
        {
          "output_type": "stream",
          "name": "stderr",
          "text": [
            "[*********************100%***********************]  1 of 1 completed\n",
            "[*********************100%***********************]  1 of 1 completed\n",
            "[*********************100%***********************]  1 of 1 completed\n"
          ]
        },
        {
          "output_type": "stream",
          "name": "stdout",
          "text": [
            "İşleniyor: BYDNR.IS\n",
            "İşleniyor: CANTE.IS\n",
            "İşleniyor: CASA.IS\n"
          ]
        },
        {
          "output_type": "stream",
          "name": "stderr",
          "text": [
            "[*********************100%***********************]  1 of 1 completed\n",
            "[*********************100%***********************]  1 of 1 completed\n",
            "[*********************100%***********************]  1 of 1 completed\n"
          ]
        },
        {
          "output_type": "stream",
          "name": "stdout",
          "text": [
            "İşleniyor: CATES.IS\n",
            "İşleniyor: CCOLA.IS\n",
            "İşleniyor: CELHA.IS\n"
          ]
        },
        {
          "output_type": "stream",
          "name": "stderr",
          "text": [
            "[*********************100%***********************]  1 of 1 completed\n",
            "[*********************100%***********************]  1 of 1 completed\n",
            "[*********************100%***********************]  1 of 1 completed\n"
          ]
        },
        {
          "output_type": "stream",
          "name": "stdout",
          "text": [
            "İşleniyor: CEMAS.IS\n",
            "İşleniyor: CEMTS.IS\n",
            "İşleniyor: CEMZY.IS\n"
          ]
        },
        {
          "output_type": "stream",
          "name": "stderr",
          "text": [
            "[*********************100%***********************]  1 of 1 completed\n",
            "[*********************100%***********************]  1 of 1 completed\n",
            "[*********************100%***********************]  1 of 1 completed\n"
          ]
        },
        {
          "output_type": "stream",
          "name": "stdout",
          "text": [
            "İşleniyor: CEOEM.IS\n",
            "İşleniyor: CIMSA.IS\n",
            "İşleniyor: CLEBI.IS\n"
          ]
        },
        {
          "output_type": "stream",
          "name": "stderr",
          "text": [
            "[*********************100%***********************]  1 of 1 completed\n",
            "[*********************100%***********************]  1 of 1 completed\n",
            "[*********************100%***********************]  1 of 1 completed\n"
          ]
        },
        {
          "output_type": "stream",
          "name": "stdout",
          "text": [
            "İşleniyor: CMBTN.IS\n",
            "İşleniyor: CMENT.IS\n",
            "İşleniyor: CONSE.IS\n"
          ]
        },
        {
          "output_type": "stream",
          "name": "stderr",
          "text": [
            "[*********************100%***********************]  1 of 1 completed\n",
            "[*********************100%***********************]  1 of 1 completed\n",
            "[*********************100%***********************]  1 of 1 completed\n"
          ]
        },
        {
          "output_type": "stream",
          "name": "stdout",
          "text": [
            "İşleniyor: COSMO.IS\n",
            "İşleniyor: CRDFA.IS\n",
            "İşleniyor: CRFSA.IS\n"
          ]
        },
        {
          "output_type": "stream",
          "name": "stderr",
          "text": [
            "[*********************100%***********************]  1 of 1 completed\n",
            "[*********************100%***********************]  1 of 1 completed\n",
            "[*********************100%***********************]  1 of 1 completed\n"
          ]
        },
        {
          "output_type": "stream",
          "name": "stdout",
          "text": [
            "İşleniyor: CUSAN.IS\n",
            "İşleniyor: CVKMD.IS\n",
            "İşleniyor: CWENE.IS\n"
          ]
        },
        {
          "output_type": "stream",
          "name": "stderr",
          "text": [
            "[*********************100%***********************]  1 of 1 completed\n",
            "[*********************100%***********************]  1 of 1 completed\n",
            "[*********************100%***********************]  1 of 1 completed\n"
          ]
        },
        {
          "output_type": "stream",
          "name": "stdout",
          "text": [
            "İşleniyor: DAGHL.IS\n",
            "İşleniyor: DAGI.IS\n",
            "İşleniyor: DAPGM.IS\n"
          ]
        },
        {
          "output_type": "stream",
          "name": "stderr",
          "text": [
            "[*********************100%***********************]  1 of 1 completed\n",
            "[*********************100%***********************]  1 of 1 completed\n",
            "[*********************100%***********************]  1 of 1 completed\n"
          ]
        },
        {
          "output_type": "stream",
          "name": "stdout",
          "text": [
            "İşleniyor: DARDL.IS\n",
            "İşleniyor: DCTTR.IS\n",
            "İşleniyor: DENGE.IS\n"
          ]
        },
        {
          "output_type": "stream",
          "name": "stderr",
          "text": [
            "[*********************100%***********************]  1 of 1 completed\n",
            "[*********************100%***********************]  1 of 1 completed\n",
            "[*********************100%***********************]  1 of 1 completed\n"
          ]
        },
        {
          "output_type": "stream",
          "name": "stdout",
          "text": [
            "İşleniyor: DERHL.IS\n",
            "İşleniyor: DERIM.IS\n",
            "İşleniyor: DESA.IS\n"
          ]
        },
        {
          "output_type": "stream",
          "name": "stderr",
          "text": [
            "[*********************100%***********************]  1 of 1 completed\n",
            "[*********************100%***********************]  1 of 1 completed\n",
            "[*********************100%***********************]  1 of 1 completed\n"
          ]
        },
        {
          "output_type": "stream",
          "name": "stdout",
          "text": [
            "İşleniyor: DESPC.IS\n",
            "İşleniyor: DEVA.IS\n",
            "İşleniyor: DGATE.IS\n"
          ]
        },
        {
          "output_type": "stream",
          "name": "stderr",
          "text": [
            "[*********************100%***********************]  1 of 1 completed\n",
            "[*********************100%***********************]  1 of 1 completed\n",
            "[*********************100%***********************]  1 of 1 completed\n"
          ]
        },
        {
          "output_type": "stream",
          "name": "stdout",
          "text": [
            "İşleniyor: DGNMO.IS\n",
            "İşleniyor: DIRIT.IS\n",
            "İşleniyor: DITAS.IS\n"
          ]
        },
        {
          "output_type": "stream",
          "name": "stderr",
          "text": [
            "[*********************100%***********************]  1 of 1 completed\n",
            "[*********************100%***********************]  1 of 1 completed\n",
            "[*********************100%***********************]  1 of 1 completed\n"
          ]
        },
        {
          "output_type": "stream",
          "name": "stdout",
          "text": [
            "İşleniyor: DMRGD.IS\n",
            "İşleniyor: DMSAS.IS\n",
            "İşleniyor: DNISI.IS\n"
          ]
        },
        {
          "output_type": "stream",
          "name": "stderr",
          "text": [
            "[*********************100%***********************]  1 of 1 completed\n",
            "[*********************100%***********************]  1 of 1 completed\n",
            "[*********************100%***********************]  1 of 1 completed\n"
          ]
        },
        {
          "output_type": "stream",
          "name": "stdout",
          "text": [
            "İşleniyor: DOAS.IS\n",
            "İşleniyor: DOBUR.IS\n",
            "İşleniyor: DOCO.IS\n"
          ]
        },
        {
          "output_type": "stream",
          "name": "stderr",
          "text": [
            "[*********************100%***********************]  1 of 1 completed\n",
            "[*********************100%***********************]  1 of 1 completed\n",
            "[*********************100%***********************]  1 of 1 completed\n"
          ]
        },
        {
          "output_type": "stream",
          "name": "stdout",
          "text": [
            "İşleniyor: DOFER.IS\n",
            "İşleniyor: DOGUB.IS\n",
            "İşleniyor: DOHOL.IS\n"
          ]
        },
        {
          "output_type": "stream",
          "name": "stderr",
          "text": [
            "[*********************100%***********************]  1 of 1 completed\n",
            "[*********************100%***********************]  1 of 1 completed\n",
            "[*********************100%***********************]  1 of 1 completed\n"
          ]
        },
        {
          "output_type": "stream",
          "name": "stdout",
          "text": [
            "İşleniyor: DOKTA.IS\n",
            "İşleniyor: DURDO.IS\n",
            "İşleniyor: DURKN.IS\n"
          ]
        },
        {
          "output_type": "stream",
          "name": "stderr",
          "text": [
            "[*********************100%***********************]  1 of 1 completed\n",
            "[*********************100%***********************]  1 of 1 completed\n",
            "[*********************100%***********************]  1 of 1 completed\n"
          ]
        },
        {
          "output_type": "stream",
          "name": "stdout",
          "text": [
            "İşleniyor: DYOBY.IS\n",
            "İşleniyor: DZGYO.IS\n",
            "İşleniyor: EBEBK.IS\n"
          ]
        },
        {
          "output_type": "stream",
          "name": "stderr",
          "text": [
            "[*********************100%***********************]  1 of 1 completed\n",
            "[*********************100%***********************]  1 of 1 completed\n",
            "[*********************100%***********************]  1 of 1 completed"
          ]
        },
        {
          "output_type": "stream",
          "name": "stdout",
          "text": [
            "İşleniyor: ECILC.IS\n",
            "İşleniyor: ECZYT.IS\n"
          ]
        },
        {
          "output_type": "stream",
          "name": "stderr",
          "text": [
            "\n",
            "[*********************100%***********************]  1 of 1 completed\n",
            "[*********************100%***********************]  1 of 1 completed\n",
            "[*********************100%***********************]  1 of 1 completed\n"
          ]
        },
        {
          "output_type": "stream",
          "name": "stdout",
          "text": [
            "İşleniyor: EDATA.IS\n",
            "İşleniyor: EDIP.IS\n",
            "İşleniyor: EFORC.IS\n",
            "İşleniyor: EGEEN.IS\n"
          ]
        },
        {
          "output_type": "stream",
          "name": "stderr",
          "text": [
            "[*********************100%***********************]  1 of 1 completed\n",
            "[*********************100%***********************]  1 of 1 completed\n",
            "[*********************100%***********************]  1 of 1 completed\n"
          ]
        },
        {
          "output_type": "stream",
          "name": "stdout",
          "text": [
            "İşleniyor: EGEPO.IS\n",
            "İşleniyor: EGGUB.IS\n",
            "İşleniyor: EGPRO.IS\n"
          ]
        },
        {
          "output_type": "stream",
          "name": "stderr",
          "text": [
            "[*********************100%***********************]  1 of 1 completed\n",
            "[*********************100%***********************]  1 of 1 completed\n",
            "[*********************100%***********************]  1 of 1 completed"
          ]
        },
        {
          "output_type": "stream",
          "name": "stdout",
          "text": [
            "İşleniyor: EGSER.IS\n",
            "İşleniyor: EKIZ.IS\n"
          ]
        },
        {
          "output_type": "stream",
          "name": "stderr",
          "text": [
            "\n",
            "[*********************100%***********************]  1 of 1 completed\n",
            "[*********************100%***********************]  1 of 1 completed\n"
          ]
        },
        {
          "output_type": "stream",
          "name": "stdout",
          "text": [
            "İşleniyor: EKOS.IS\n",
            "İşleniyor: EKSUN.IS\n",
            "İşleniyor: ELITE.IS\n"
          ]
        },
        {
          "output_type": "stream",
          "name": "stderr",
          "text": [
            "[*********************100%***********************]  1 of 1 completed\n",
            "[*********************100%***********************]  1 of 1 completed\n",
            "[*********************100%***********************]  1 of 1 completed\n"
          ]
        },
        {
          "output_type": "stream",
          "name": "stdout",
          "text": [
            "İşleniyor: EMKEL.IS\n",
            "İşleniyor: EMNIS.IS\n",
            "İşleniyor: ENERY.IS\n"
          ]
        },
        {
          "output_type": "stream",
          "name": "stderr",
          "text": [
            "[*********************100%***********************]  1 of 1 completed\n",
            "[*********************100%***********************]  1 of 1 completed\n",
            "[*********************100%***********************]  1 of 1 completed\n"
          ]
        },
        {
          "output_type": "stream",
          "name": "stdout",
          "text": [
            "İşleniyor: ENJSA.IS\n",
            "İşleniyor: ENKAI.IS\n"
          ]
        },
        {
          "output_type": "stream",
          "name": "stderr",
          "text": [
            "\r[*********************100%***********************]  1 of 1 completed\n"
          ]
        },
        {
          "output_type": "stream",
          "name": "stdout",
          "text": [
            "İşleniyor: ENSRI.IS\n",
            "İşleniyor: ENTRA.IS\n"
          ]
        },
        {
          "output_type": "stream",
          "name": "stderr",
          "text": [
            "[*********************100%***********************]  1 of 1 completed\n",
            "[*********************100%***********************]  1 of 1 completed\n",
            "[*********************100%***********************]  1 of 1 completed\n"
          ]
        },
        {
          "output_type": "stream",
          "name": "stdout",
          "text": [
            "İşleniyor: EPLAS.IS\n",
            "İşleniyor: ERBOS.IS\n",
            "İşleniyor: ERCB.IS\n"
          ]
        },
        {
          "output_type": "stream",
          "name": "stderr",
          "text": [
            "[*********************100%***********************]  1 of 1 completed\n",
            "[*********************100%***********************]  1 of 1 completed\n",
            "[*********************100%***********************]  1 of 1 completed\n"
          ]
        },
        {
          "output_type": "stream",
          "name": "stdout",
          "text": [
            "İşleniyor: EREGL.IS\n",
            "İşleniyor: ERSU.IS\n",
            "İşleniyor: ESCAR.IS"
          ]
        },
        {
          "output_type": "stream",
          "name": "stderr",
          "text": [
            "[*********************100%***********************]  1 of 1 completed\n",
            "[*********************100%***********************]  1 of 1 completed\n"
          ]
        },
        {
          "output_type": "stream",
          "name": "stdout",
          "text": [
            "\n",
            "İşleniyor: ESCOM.IS\n",
            "İşleniyor: ESEN.IS\n"
          ]
        },
        {
          "output_type": "stream",
          "name": "stderr",
          "text": [
            "[*********************100%***********************]  1 of 1 completed\n",
            "[*********************100%***********************]  1 of 1 completed\n",
            "[*********************100%***********************]  1 of 1 completed\n"
          ]
        },
        {
          "output_type": "stream",
          "name": "stdout",
          "text": [
            "İşleniyor: ETILR.IS\n",
            "İşleniyor: ETYAT.IS\n",
            "İşleniyor: EUHOL.IS\n"
          ]
        },
        {
          "output_type": "stream",
          "name": "stderr",
          "text": [
            "[*********************100%***********************]  1 of 1 completed\n",
            "[*********************100%***********************]  1 of 1 completed\n"
          ]
        },
        {
          "output_type": "stream",
          "name": "stdout",
          "text": [
            "İşleniyor: EUKYO.IS\n",
            "İşleniyor: EUPWR.IS\n"
          ]
        },
        {
          "output_type": "stream",
          "name": "stderr",
          "text": [
            "[*********************100%***********************]  1 of 1 completed\n",
            "[*********************100%***********************]  1 of 1 completed\n",
            "[*********************100%***********************]  1 of 1 completed\n"
          ]
        },
        {
          "output_type": "stream",
          "name": "stdout",
          "text": [
            "İşleniyor: EUREN.IS\n",
            "İşleniyor: EUYO.IS\n",
            "İşleniyor: FADE.IS\n"
          ]
        },
        {
          "output_type": "stream",
          "name": "stderr",
          "text": [
            "[*********************100%***********************]  1 of 1 completed\n",
            "[*********************100%***********************]  1 of 1 completed\n",
            "[*********************100%***********************]  1 of 1 completed\n"
          ]
        },
        {
          "output_type": "stream",
          "name": "stdout",
          "text": [
            "İşleniyor: FENER.IS\n",
            "İşleniyor: FLAP.IS\n"
          ]
        },
        {
          "output_type": "stream",
          "name": "stderr",
          "text": [
            "[*********************100%***********************]  1 of 1 completed\n",
            "[*********************100%***********************]  1 of 1 completed\n",
            "[*********************100%***********************]  1 of 1 completed\n"
          ]
        },
        {
          "output_type": "stream",
          "name": "stdout",
          "text": [
            "İşleniyor: FMIZP.IS\n",
            "İşleniyor: FONET.IS\n",
            "İşleniyor: FORMT.IS\n",
            "İşleniyor: FORTE.IS\n"
          ]
        },
        {
          "output_type": "stream",
          "name": "stderr",
          "text": [
            "[*********************100%***********************]  1 of 1 completed\n",
            "[*********************100%***********************]  1 of 1 completed\n",
            "[*********************100%***********************]  1 of 1 completed\n"
          ]
        },
        {
          "output_type": "stream",
          "name": "stdout",
          "text": [
            "İşleniyor: FRIGO.IS\n",
            "İşleniyor: FROTO.IS\n",
            "İşleniyor: FZLGY.IS\n"
          ]
        },
        {
          "output_type": "stream",
          "name": "stderr",
          "text": [
            "[*********************100%***********************]  1 of 1 completed\n",
            "[*********************100%***********************]  1 of 1 completed\n",
            "[*********************100%***********************]  1 of 1 completed\n"
          ]
        },
        {
          "output_type": "stream",
          "name": "stdout",
          "text": [
            "İşleniyor: GARAN.IS\n",
            "İşleniyor: GARFA.IS\n",
            "İşleniyor: GEDIK.IS\n"
          ]
        },
        {
          "output_type": "stream",
          "name": "stderr",
          "text": [
            "[*********************100%***********************]  1 of 1 completed\n",
            "[*********************100%***********************]  1 of 1 completed\n",
            "[*********************100%***********************]  1 of 1 completed\n"
          ]
        },
        {
          "output_type": "stream",
          "name": "stdout",
          "text": [
            "İşleniyor: GEDZA.IS\n",
            "İşleniyor: GENIL.IS\n",
            "İşleniyor: GENTS.IS\n"
          ]
        },
        {
          "output_type": "stream",
          "name": "stderr",
          "text": [
            "[*********************100%***********************]  1 of 1 completed\n",
            "[*********************100%***********************]  1 of 1 completed\n",
            "[*********************100%***********************]  1 of 1 completed\n"
          ]
        },
        {
          "output_type": "stream",
          "name": "stdout",
          "text": [
            "İşleniyor: GEREL.IS\n",
            "İşleniyor: GESAN.IS\n",
            "İşleniyor: GIPTA.IS\n"
          ]
        },
        {
          "output_type": "stream",
          "name": "stderr",
          "text": [
            "[*********************100%***********************]  1 of 1 completed\n",
            "[*********************100%***********************]  1 of 1 completed\n",
            "[*********************100%***********************]  1 of 1 completed\n"
          ]
        },
        {
          "output_type": "stream",
          "name": "stdout",
          "text": [
            "İşleniyor: GLBMD.IS\n",
            "İşleniyor: GLCVY.IS\n",
            "İşleniyor: GLRYH.IS\n"
          ]
        },
        {
          "output_type": "stream",
          "name": "stderr",
          "text": [
            "[*********************100%***********************]  1 of 1 completed\n",
            "[*********************100%***********************]  1 of 1 completed\n",
            "[*********************100%***********************]  1 of 1 completed\n"
          ]
        },
        {
          "output_type": "stream",
          "name": "stdout",
          "text": [
            "İşleniyor: GLYHO.IS\n",
            "İşleniyor: GMTAS.IS\n",
            "İşleniyor: GOKNR.IS\n"
          ]
        },
        {
          "output_type": "stream",
          "name": "stderr",
          "text": [
            "[*********************100%***********************]  1 of 1 completed\n",
            "[*********************100%***********************]  1 of 1 completed\n",
            "[*********************100%***********************]  1 of 1 completed"
          ]
        },
        {
          "output_type": "stream",
          "name": "stdout",
          "text": [
            "İşleniyor: GOLTS.IS\n",
            "İşleniyor: GOODY.IS\n"
          ]
        },
        {
          "output_type": "stream",
          "name": "stderr",
          "text": [
            "\n",
            "[*********************100%***********************]  1 of 1 completed\n",
            "[*********************100%***********************]  1 of 1 completed\n",
            "[*********************100%***********************]  1 of 1 completed\n"
          ]
        },
        {
          "output_type": "stream",
          "name": "stdout",
          "text": [
            "İşleniyor: GOZDE.IS\n",
            "İşleniyor: GRNYO.IS\n",
            "İşleniyor: GRSEL.IS\n",
            "İşleniyor: GRTHO.IS\n"
          ]
        },
        {
          "output_type": "stream",
          "name": "stderr",
          "text": [
            "[*********************100%***********************]  1 of 1 completed\n",
            "[*********************100%***********************]  1 of 1 completed\n",
            "[*********************100%***********************]  1 of 1 completed\n"
          ]
        },
        {
          "output_type": "stream",
          "name": "stdout",
          "text": [
            "İşleniyor: GSDDE.IS\n",
            "İşleniyor: GSDHO.IS\n",
            "İşleniyor: GSRAY.IS\n"
          ]
        },
        {
          "output_type": "stream",
          "name": "stderr",
          "text": [
            "[*********************100%***********************]  1 of 1 completed\n",
            "[*********************100%***********************]  1 of 1 completed\n",
            "[*********************100%***********************]  1 of 1 completed\n"
          ]
        },
        {
          "output_type": "stream",
          "name": "stdout",
          "text": [
            "İşleniyor: GUBRF.IS\n",
            "İşleniyor: GUNDG.IS\n",
            "İşleniyor: GWIND.IS\n"
          ]
        },
        {
          "output_type": "stream",
          "name": "stderr",
          "text": [
            "[*********************100%***********************]  1 of 1 completed\n",
            "[*********************100%***********************]  1 of 1 completed\n",
            "[*********************100%***********************]  1 of 1 completed\n"
          ]
        },
        {
          "output_type": "stream",
          "name": "stdout",
          "text": [
            "İşleniyor: GZNMI.IS\n",
            "İşleniyor: HALKB.IS\n",
            "İşleniyor: HATEK.IS\n"
          ]
        },
        {
          "output_type": "stream",
          "name": "stderr",
          "text": [
            "[*********************100%***********************]  1 of 1 completed\n",
            "[*********************100%***********************]  1 of 1 completed\n",
            "[*********************100%***********************]  1 of 1 completed\n"
          ]
        },
        {
          "output_type": "stream",
          "name": "stdout",
          "text": [
            "İşleniyor: HATSN.IS\n",
            "İşleniyor: HDFGS.IS\n",
            "İşleniyor: HEDEF.IS\n"
          ]
        },
        {
          "output_type": "stream",
          "name": "stderr",
          "text": [
            "[*********************100%***********************]  1 of 1 completed\n",
            "[*********************100%***********************]  1 of 1 completed\n",
            "[*********************100%***********************]  1 of 1 completed\n"
          ]
        },
        {
          "output_type": "stream",
          "name": "stdout",
          "text": [
            "İşleniyor: HEKTS.IS\n",
            "İşleniyor: HKTM.IS\n",
            "İşleniyor: HOROZ.IS\n"
          ]
        },
        {
          "output_type": "stream",
          "name": "stderr",
          "text": [
            "[*********************100%***********************]  1 of 1 completed\n",
            "[*********************100%***********************]  1 of 1 completed\n",
            "[*********************100%***********************]  1 of 1 completed\n"
          ]
        },
        {
          "output_type": "stream",
          "name": "stdout",
          "text": [
            "İşleniyor: HRKET.IS\n",
            "İşleniyor: HTTBT.IS\n",
            "İşleniyor: HUBVC.IS\n"
          ]
        },
        {
          "output_type": "stream",
          "name": "stderr",
          "text": [
            "[*********************100%***********************]  1 of 1 completed\n",
            "[*********************100%***********************]  1 of 1 completed\n",
            "[*********************100%***********************]  1 of 1 completed\n"
          ]
        },
        {
          "output_type": "stream",
          "name": "stdout",
          "text": [
            "İşleniyor: HUNER.IS\n",
            "İşleniyor: HURGZ.IS\n",
            "İşleniyor: ICBCT.IS\n"
          ]
        },
        {
          "output_type": "stream",
          "name": "stderr",
          "text": [
            "[*********************100%***********************]  1 of 1 completed\n",
            "[*********************100%***********************]  1 of 1 completed\n",
            "[*********************100%***********************]  1 of 1 completed\n"
          ]
        },
        {
          "output_type": "stream",
          "name": "stdout",
          "text": [
            "İşleniyor: ICUGS.IS\n",
            "İşleniyor: IEYHO.IS\n",
            "İşleniyor: IHAAS.IS\n"
          ]
        },
        {
          "output_type": "stream",
          "name": "stderr",
          "text": [
            "[*********************100%***********************]  1 of 1 completed\n",
            "[*********************100%***********************]  1 of 1 completed\n",
            "[*********************100%***********************]  1 of 1 completed\n"
          ]
        },
        {
          "output_type": "stream",
          "name": "stdout",
          "text": [
            "İşleniyor: IHEVA.IS\n",
            "İşleniyor: IHGZT.IS\n",
            "İşleniyor: IHLAS.IS\n"
          ]
        },
        {
          "output_type": "stream",
          "name": "stderr",
          "text": [
            "[*********************100%***********************]  1 of 1 completed\n",
            "[*********************100%***********************]  1 of 1 completed\n",
            "[*********************100%***********************]  1 of 1 completed\n",
            "[*********************100%***********************]  1 of 1 completed\n"
          ]
        },
        {
          "output_type": "stream",
          "name": "stdout",
          "text": [
            "İşleniyor: IHLGM.IS\n",
            "İşleniyor: IHYAY.IS\n",
            "İşleniyor: IMASM.IS\n"
          ]
        },
        {
          "output_type": "stream",
          "name": "stderr",
          "text": [
            "\r[*********************100%***********************]  1 of 1 completed\n"
          ]
        },
        {
          "output_type": "stream",
          "name": "stdout",
          "text": [
            "İşleniyor: INDES.IS\n",
            "İşleniyor: INFO.IS\n"
          ]
        },
        {
          "output_type": "stream",
          "name": "stderr",
          "text": [
            "[*********************100%***********************]  1 of 1 completed\n",
            "[*********************100%***********************]  1 of 1 completed\n",
            "[*********************100%***********************]  1 of 1 completed\n",
            "[*********************100%***********************]  1 of 1 completed"
          ]
        },
        {
          "output_type": "stream",
          "name": "stdout",
          "text": [
            "İşleniyor: INGRM.IS\n",
            "İşleniyor: INTEK.IS\n",
            "İşleniyor: INTEM.IS\n"
          ]
        },
        {
          "output_type": "stream",
          "name": "stderr",
          "text": [
            "\n",
            "[*********************100%***********************]  1 of 1 completed\n"
          ]
        },
        {
          "output_type": "stream",
          "name": "stdout",
          "text": [
            "İşleniyor: INVEO.IS\n",
            "İşleniyor: INVES.IS\n"
          ]
        },
        {
          "output_type": "stream",
          "name": "stderr",
          "text": [
            "[*********************100%***********************]  1 of 1 completed\n",
            "[*********************100%***********************]  1 of 1 completed\n",
            "[*********************100%***********************]  1 of 1 completed\n"
          ]
        },
        {
          "output_type": "stream",
          "name": "stdout",
          "text": [
            "İşleniyor: IPEKE.IS\n",
            "İşleniyor: ISBIR.IS\n",
            "İşleniyor: ISBTR.IS\n"
          ]
        },
        {
          "output_type": "stream",
          "name": "stderr",
          "text": [
            "[*********************100%***********************]  1 of 1 completed\n",
            "[*********************100%***********************]  1 of 1 completed\n",
            "[*********************100%***********************]  1 of 1 completed\n"
          ]
        },
        {
          "output_type": "stream",
          "name": "stdout",
          "text": [
            "İşleniyor: ISCTR.IS\n",
            "İşleniyor: ISDMR.IS\n",
            "İşleniyor: ISFIN.IS\n"
          ]
        },
        {
          "output_type": "stream",
          "name": "stderr",
          "text": [
            "[*********************100%***********************]  1 of 1 completed\n",
            "[*********************100%***********************]  1 of 1 completed\n",
            "[*********************100%***********************]  1 of 1 completed\n"
          ]
        },
        {
          "output_type": "stream",
          "name": "stdout",
          "text": [
            "İşleniyor: ISKPL.IS\n",
            "İşleniyor: ISMEN.IS\n",
            "İşleniyor: ISSEN.IS\n"
          ]
        },
        {
          "output_type": "stream",
          "name": "stderr",
          "text": [
            "[*********************100%***********************]  1 of 1 completed\n",
            "[*********************100%***********************]  1 of 1 completed\n",
            "[*********************100%***********************]  1 of 1 completed\n"
          ]
        },
        {
          "output_type": "stream",
          "name": "stdout",
          "text": [
            "İşleniyor: IZENR.IS\n",
            "İşleniyor: IZFAS.IS\n",
            "İşleniyor: IZINV.IS\n"
          ]
        },
        {
          "output_type": "stream",
          "name": "stderr",
          "text": [
            "[*********************100%***********************]  1 of 1 completed\n",
            "[*********************100%***********************]  1 of 1 completed\n",
            "[*********************100%***********************]  1 of 1 completed\n"
          ]
        },
        {
          "output_type": "stream",
          "name": "stdout",
          "text": [
            "İşleniyor: IZMDC.IS\n",
            "İşleniyor: JANTS.IS\n",
            "İşleniyor: KAPLM.IS\n"
          ]
        },
        {
          "output_type": "stream",
          "name": "stderr",
          "text": [
            "[*********************100%***********************]  1 of 1 completed\n",
            "[*********************100%***********************]  1 of 1 completed\n",
            "[*********************100%***********************]  1 of 1 completed\n"
          ]
        },
        {
          "output_type": "stream",
          "name": "stdout",
          "text": [
            "İşleniyor: KAREL.IS\n",
            "İşleniyor: KARSN.IS\n",
            "İşleniyor: KARTN.IS\n"
          ]
        },
        {
          "output_type": "stream",
          "name": "stderr",
          "text": [
            "[*********************100%***********************]  1 of 1 completed\n",
            "[*********************100%***********************]  1 of 1 completed\n",
            "[*********************100%***********************]  1 of 1 completed\n"
          ]
        },
        {
          "output_type": "stream",
          "name": "stdout",
          "text": [
            "İşleniyor: KARYE.IS\n",
            "İşleniyor: KATMR.IS\n",
            "İşleniyor: KAYSE.IS\n"
          ]
        },
        {
          "output_type": "stream",
          "name": "stderr",
          "text": [
            "[*********************100%***********************]  1 of 1 completed\n",
            "[*********************100%***********************]  1 of 1 completed\n",
            "[*********************100%***********************]  1 of 1 completed\n"
          ]
        },
        {
          "output_type": "stream",
          "name": "stdout",
          "text": [
            "İşleniyor: KBORU.IS\n",
            "İşleniyor: KCAER.IS\n",
            "İşleniyor: KCHOL.IS\n"
          ]
        },
        {
          "output_type": "stream",
          "name": "stderr",
          "text": [
            "[*********************100%***********************]  1 of 1 completed\n",
            "[*********************100%***********************]  1 of 1 completed\n",
            "[*********************100%***********************]  1 of 1 completed\n"
          ]
        },
        {
          "output_type": "stream",
          "name": "stdout",
          "text": [
            "İşleniyor: KENT.IS\n",
            "İşleniyor: KERVN.IS\n",
            "İşleniyor: KERVT.IS\n"
          ]
        },
        {
          "output_type": "stream",
          "name": "stderr",
          "text": [
            "[*********************100%***********************]  1 of 1 completed\n",
            "[*********************100%***********************]  1 of 1 completed\n",
            "[*********************100%***********************]  1 of 1 completed\n"
          ]
        },
        {
          "output_type": "stream",
          "name": "stdout",
          "text": [
            "İşleniyor: KFEIN.IS\n",
            "İşleniyor: KIMMR.IS\n",
            "İşleniyor: KLKIM.IS\n"
          ]
        },
        {
          "output_type": "stream",
          "name": "stderr",
          "text": [
            "[*********************100%***********************]  1 of 1 completed\n",
            "[*********************100%***********************]  1 of 1 completed\n",
            "[*********************100%***********************]  1 of 1 completed\n"
          ]
        },
        {
          "output_type": "stream",
          "name": "stdout",
          "text": [
            "İşleniyor: KLMSN.IS\n",
            "İşleniyor: KLNMA.IS\n",
            "İşleniyor: KLRHO.IS\n"
          ]
        },
        {
          "output_type": "stream",
          "name": "stderr",
          "text": [
            "[*********************100%***********************]  1 of 1 completed\n",
            "[*********************100%***********************]  1 of 1 completed\n",
            "[*********************100%***********************]  1 of 1 completed\n"
          ]
        },
        {
          "output_type": "stream",
          "name": "stdout",
          "text": [
            "İşleniyor: KLSER.IS\n",
            "İşleniyor: KLSYN.IS\n",
            "İşleniyor: KMPUR.IS\n"
          ]
        },
        {
          "output_type": "stream",
          "name": "stderr",
          "text": [
            "[*********************100%***********************]  1 of 1 completed\n",
            "[*********************100%***********************]  1 of 1 completed\n",
            "[*********************100%***********************]  1 of 1 completed\n",
            "[*********************100%***********************]  1 of 1 completed"
          ]
        },
        {
          "output_type": "stream",
          "name": "stdout",
          "text": [
            "İşleniyor: KNFRT.IS\n",
            "İşleniyor: KOCMT.IS\n",
            "İşleniyor: KONKA.IS\n"
          ]
        },
        {
          "output_type": "stream",
          "name": "stderr",
          "text": [
            "\n",
            "[*********************100%***********************]  1 of 1 completed\n",
            "[*********************100%***********************]  1 of 1 completed"
          ]
        },
        {
          "output_type": "stream",
          "name": "stdout",
          "text": [
            "İşleniyor: KONTR.IS\n",
            "İşleniyor: KONYA.IS\n"
          ]
        },
        {
          "output_type": "stream",
          "name": "stderr",
          "text": [
            "\n",
            "[*********************100%***********************]  1 of 1 completed\n",
            "[*********************100%***********************]  1 of 1 completed\n",
            "[*********************100%***********************]  1 of 1 completed\n"
          ]
        },
        {
          "output_type": "stream",
          "name": "stdout",
          "text": [
            "İşleniyor: KOPOL.IS\n",
            "İşleniyor: KORDS.IS\n",
            "İşleniyor: KOTON.IS\n",
            "İşleniyor: KOZAA.IS\n"
          ]
        },
        {
          "output_type": "stream",
          "name": "stderr",
          "text": [
            "[*********************100%***********************]  1 of 1 completed\n",
            "[*********************100%***********************]  1 of 1 completed\n"
          ]
        },
        {
          "output_type": "stream",
          "name": "stdout",
          "text": [
            "İşleniyor: KOZAL.IS\n",
            "İşleniyor: KRDMA.IS\n"
          ]
        },
        {
          "output_type": "stream",
          "name": "stderr",
          "text": [
            "[*********************100%***********************]  1 of 1 completed\n",
            "[*********************100%***********************]  1 of 1 completed\n",
            "[*********************100%***********************]  1 of 1 completed\n"
          ]
        },
        {
          "output_type": "stream",
          "name": "stdout",
          "text": [
            "İşleniyor: KRDMB.IS\n",
            "İşleniyor: KRDMD.IS\n",
            "İşleniyor: KRONT.IS\n"
          ]
        },
        {
          "output_type": "stream",
          "name": "stderr",
          "text": [
            "[*********************100%***********************]  1 of 1 completed\n",
            "[*********************100%***********************]  1 of 1 completed\n",
            "[*********************100%***********************]  1 of 1 completed\n"
          ]
        },
        {
          "output_type": "stream",
          "name": "stdout",
          "text": [
            "İşleniyor: KRPLS.IS\n",
            "İşleniyor: KRSTL.IS\n",
            "İşleniyor: KRTEK.IS\n"
          ]
        },
        {
          "output_type": "stream",
          "name": "stderr",
          "text": [
            "[*********************100%***********************]  1 of 1 completed\n",
            "[*********************100%***********************]  1 of 1 completed\n",
            "[*********************100%***********************]  1 of 1 completed\n"
          ]
        },
        {
          "output_type": "stream",
          "name": "stdout",
          "text": [
            "İşleniyor: KRVGD.IS\n",
            "İşleniyor: KSTUR.IS\n",
            "İşleniyor: KTLEV.IS\n"
          ]
        },
        {
          "output_type": "stream",
          "name": "stderr",
          "text": [
            "[*********************100%***********************]  1 of 1 completed\n",
            "[*********************100%***********************]  1 of 1 completed\n",
            "[*********************100%***********************]  1 of 1 completed\n"
          ]
        },
        {
          "output_type": "stream",
          "name": "stdout",
          "text": [
            "İşleniyor: KTSKR.IS\n",
            "İşleniyor: KUTPO.IS\n",
            "İşleniyor: KUVVA.IS\n"
          ]
        },
        {
          "output_type": "stream",
          "name": "stderr",
          "text": [
            "[*********************100%***********************]  1 of 1 completed\n",
            "[*********************100%***********************]  1 of 1 completed\n",
            "[*********************100%***********************]  1 of 1 completed\n"
          ]
        },
        {
          "output_type": "stream",
          "name": "stdout",
          "text": [
            "İşleniyor: KZBGY.IS\n",
            "İşleniyor: KZGYO.IS\n",
            "İşleniyor: LIDER.IS\n"
          ]
        },
        {
          "output_type": "stream",
          "name": "stderr",
          "text": [
            "[*********************100%***********************]  1 of 1 completed\n",
            "[*********************100%***********************]  1 of 1 completed\n",
            "[*********************100%***********************]  1 of 1 completed\n"
          ]
        },
        {
          "output_type": "stream",
          "name": "stdout",
          "text": [
            "İşleniyor: LIDFA.IS\n",
            "İşleniyor: LILAK.IS\n",
            "İşleniyor: LINK.IS\n"
          ]
        },
        {
          "output_type": "stream",
          "name": "stderr",
          "text": [
            "[*********************100%***********************]  1 of 1 completed\n",
            "[*********************100%***********************]  1 of 1 completed\n"
          ]
        },
        {
          "output_type": "stream",
          "name": "stdout",
          "text": [
            "İşleniyor: LKMNH.IS\n",
            "İşleniyor: LMKDC.IS\n"
          ]
        },
        {
          "output_type": "stream",
          "name": "stderr",
          "text": [
            "[*********************100%***********************]  1 of 1 completed\n",
            "[*********************100%***********************]  1 of 1 completed\n",
            "[*********************100%***********************]  1 of 1 completed"
          ]
        },
        {
          "output_type": "stream",
          "name": "stdout",
          "text": [
            "İşleniyor: LOGO.IS\n",
            "İşleniyor: LRSHO.IS\n"
          ]
        },
        {
          "output_type": "stream",
          "name": "stderr",
          "text": [
            "\n",
            "[*********************100%***********************]  1 of 1 completed\n",
            "[*********************100%***********************]  1 of 1 completed\n"
          ]
        },
        {
          "output_type": "stream",
          "name": "stdout",
          "text": [
            "İşleniyor: LUKSK.IS\n",
            "İşleniyor: LYDHO.IS\n",
            "İşleniyor: LYDYE.IS\n"
          ]
        },
        {
          "output_type": "stream",
          "name": "stderr",
          "text": [
            "[*********************100%***********************]  1 of 1 completed\n",
            "[*********************100%***********************]  1 of 1 completed\n",
            "[*********************100%***********************]  1 of 1 completed\n"
          ]
        },
        {
          "output_type": "stream",
          "name": "stdout",
          "text": [
            "İşleniyor: MAALT.IS\n",
            "İşleniyor: MACKO.IS\n",
            "İşleniyor: MAGEN.IS\n"
          ]
        },
        {
          "output_type": "stream",
          "name": "stderr",
          "text": [
            "[*********************100%***********************]  1 of 1 completed\n",
            "[*********************100%***********************]  1 of 1 completed\n",
            "[*********************100%***********************]  1 of 1 completed\n"
          ]
        },
        {
          "output_type": "stream",
          "name": "stdout",
          "text": [
            "İşleniyor: MAKIM.IS\n",
            "İşleniyor: MAKTK.IS\n"
          ]
        },
        {
          "output_type": "stream",
          "name": "stderr",
          "text": [
            "[*********************100%***********************]  1 of 1 completed\n",
            "[*********************100%***********************]  1 of 1 completed\n"
          ]
        },
        {
          "output_type": "stream",
          "name": "stdout",
          "text": [
            "İşleniyor: MANAS.IS\n",
            "İşleniyor: MARBL.IS\n",
            "İşleniyor: MARKA.IS\n"
          ]
        },
        {
          "output_type": "stream",
          "name": "stderr",
          "text": [
            "[*********************100%***********************]  1 of 1 completed\n",
            "[*********************100%***********************]  1 of 1 completed\n",
            "[*********************100%***********************]  1 of 1 completed\n"
          ]
        },
        {
          "output_type": "stream",
          "name": "stdout",
          "text": [
            "İşleniyor: MARTI.IS\n",
            "İşleniyor: MAVI.IS\n",
            "İşleniyor: MEDTR.IS\n"
          ]
        },
        {
          "output_type": "stream",
          "name": "stderr",
          "text": [
            "[*********************100%***********************]  1 of 1 completed\n",
            "[*********************100%***********************]  1 of 1 completed\n",
            "[*********************100%***********************]  1 of 1 completed\n"
          ]
        },
        {
          "output_type": "stream",
          "name": "stdout",
          "text": [
            "İşleniyor: MEGAP.IS\n",
            "İşleniyor: MEGMT.IS\n",
            "İşleniyor: MEKAG.IS\n"
          ]
        },
        {
          "output_type": "stream",
          "name": "stderr",
          "text": [
            "[*********************100%***********************]  1 of 1 completed\n",
            "[*********************100%***********************]  1 of 1 completed\n",
            "[*********************100%***********************]  1 of 1 completed\n"
          ]
        },
        {
          "output_type": "stream",
          "name": "stdout",
          "text": [
            "İşleniyor: MEPET.IS\n",
            "İşleniyor: MERCN.IS\n",
            "İşleniyor: MERIT.IS\n"
          ]
        },
        {
          "output_type": "stream",
          "name": "stderr",
          "text": [
            "[*********************100%***********************]  1 of 1 completed\n",
            "[*********************100%***********************]  1 of 1 completed\n",
            "[*********************100%***********************]  1 of 1 completed\n"
          ]
        },
        {
          "output_type": "stream",
          "name": "stdout",
          "text": [
            "İşleniyor: MERKO.IS\n",
            "İşleniyor: METRO.IS\n",
            "İşleniyor: METUR.IS\n"
          ]
        },
        {
          "output_type": "stream",
          "name": "stderr",
          "text": [
            "[*********************100%***********************]  1 of 1 completed\n",
            "[*********************100%***********************]  1 of 1 completed\n",
            "[*********************100%***********************]  1 of 1 completed\n"
          ]
        },
        {
          "output_type": "stream",
          "name": "stdout",
          "text": [
            "İşleniyor: MGROS.IS\n",
            "İşleniyor: MHRGY.IS\n",
            "İşleniyor: MIATK.IS\n"
          ]
        },
        {
          "output_type": "stream",
          "name": "stderr",
          "text": [
            "[*********************100%***********************]  1 of 1 completed\n",
            "[*********************100%***********************]  1 of 1 completed\n",
            "[*********************100%***********************]  1 of 1 completed\n"
          ]
        },
        {
          "output_type": "stream",
          "name": "stdout",
          "text": [
            "İşleniyor: MMCAS.IS\n",
            "İşleniyor: MNDRS.IS\n",
            "İşleniyor: MNDTR.IS\n"
          ]
        },
        {
          "output_type": "stream",
          "name": "stderr",
          "text": [
            "[*********************100%***********************]  1 of 1 completed\n",
            "[*********************100%***********************]  1 of 1 completed\n",
            "[*********************100%***********************]  1 of 1 completed\n",
            "[*********************100%***********************]  1 of 1 completed\n"
          ]
        },
        {
          "output_type": "stream",
          "name": "stdout",
          "text": [
            "İşleniyor: MOBTL.IS\n",
            "İşleniyor: MOGAN.IS\n",
            "İşleniyor: MPARK.IS\n",
            "İşleniyor: MRSHL.IS\n"
          ]
        },
        {
          "output_type": "stream",
          "name": "stderr",
          "text": [
            "[*********************100%***********************]  1 of 1 completed\n",
            "[*********************100%***********************]  1 of 1 completed\n",
            "[*********************100%***********************]  1 of 1 completed\n"
          ]
        },
        {
          "output_type": "stream",
          "name": "stdout",
          "text": [
            "İşleniyor: MTRKS.IS\n",
            "İşleniyor: MTRYO.IS\n",
            "İşleniyor: MZHLD.IS\n"
          ]
        },
        {
          "output_type": "stream",
          "name": "stderr",
          "text": [
            "[*********************100%***********************]  1 of 1 completed\n",
            "[*********************100%***********************]  1 of 1 completed\n",
            "[*********************100%***********************]  1 of 1 completed\n"
          ]
        },
        {
          "output_type": "stream",
          "name": "stdout",
          "text": [
            "İşleniyor: NATEN.IS\n",
            "İşleniyor: NETAS.IS\n",
            "İşleniyor: NIBAS.IS\n"
          ]
        },
        {
          "output_type": "stream",
          "name": "stderr",
          "text": [
            "[*********************100%***********************]  1 of 1 completed\n",
            "[*********************100%***********************]  1 of 1 completed\n",
            "[*********************100%***********************]  1 of 1 completed\n"
          ]
        },
        {
          "output_type": "stream",
          "name": "stdout",
          "text": [
            "İşleniyor: NTGAZ.IS\n",
            "İşleniyor: NTHOL.IS\n",
            "İşleniyor: NUHCM.IS\n"
          ]
        },
        {
          "output_type": "stream",
          "name": "stderr",
          "text": [
            "[*********************100%***********************]  1 of 1 completed\n",
            "[*********************100%***********************]  1 of 1 completed\n",
            "[*********************100%***********************]  1 of 1 completed\n"
          ]
        },
        {
          "output_type": "stream",
          "name": "stdout",
          "text": [
            "İşleniyor: OBAMS.IS\n",
            "İşleniyor: OBASE.IS\n",
            "İşleniyor: ODAS.IS\n"
          ]
        },
        {
          "output_type": "stream",
          "name": "stderr",
          "text": [
            "[*********************100%***********************]  1 of 1 completed\n",
            "[*********************100%***********************]  1 of 1 completed\n",
            "[*********************100%***********************]  1 of 1 completed\n"
          ]
        },
        {
          "output_type": "stream",
          "name": "stdout",
          "text": [
            "İşleniyor: ODINE.IS\n",
            "İşleniyor: OFSYM.IS\n",
            "İşleniyor: ONCSM.IS\n"
          ]
        },
        {
          "output_type": "stream",
          "name": "stderr",
          "text": [
            "[*********************100%***********************]  1 of 1 completed\n",
            "[*********************100%***********************]  1 of 1 completed\n",
            "[*********************100%***********************]  1 of 1 completed\n"
          ]
        },
        {
          "output_type": "stream",
          "name": "stdout",
          "text": [
            "İşleniyor: ONRYT.IS\n",
            "İşleniyor: ORCAY.IS\n",
            "İşleniyor: ORGE.IS\n"
          ]
        },
        {
          "output_type": "stream",
          "name": "stderr",
          "text": [
            "[*********************100%***********************]  1 of 1 completed\n",
            "[*********************100%***********************]  1 of 1 completed\n",
            "[*********************100%***********************]  1 of 1 completed\n"
          ]
        },
        {
          "output_type": "stream",
          "name": "stdout",
          "text": [
            "İşleniyor: ORMA.IS\n",
            "İşleniyor: OSMEN.IS\n",
            "İşleniyor: OSTIM.IS\n"
          ]
        },
        {
          "output_type": "stream",
          "name": "stderr",
          "text": [
            "[*********************100%***********************]  1 of 1 completed\n",
            "[*********************100%***********************]  1 of 1 completed\n",
            "[*********************100%***********************]  1 of 1 completed\n"
          ]
        },
        {
          "output_type": "stream",
          "name": "stdout",
          "text": [
            "İşleniyor: OTKAR.IS\n",
            "İşleniyor: OTTO.IS\n",
            "İşleniyor: OYAKC.IS\n"
          ]
        },
        {
          "output_type": "stream",
          "name": "stderr",
          "text": [
            "[*********************100%***********************]  1 of 1 completed\n",
            "[*********************100%***********************]  1 of 1 completed\n",
            "[*********************100%***********************]  1 of 1 completed\n"
          ]
        },
        {
          "output_type": "stream",
          "name": "stdout",
          "text": [
            "İşleniyor: OYAYO.IS\n",
            "İşleniyor: OYLUM.IS\n",
            "İşleniyor: OYYAT.IS\n"
          ]
        },
        {
          "output_type": "stream",
          "name": "stderr",
          "text": [
            "[*********************100%***********************]  1 of 1 completed\n",
            "[*********************100%***********************]  1 of 1 completed\n",
            "[*********************100%***********************]  1 of 1 completed\n",
            "[*********************100%***********************]  1 of 1 completed"
          ]
        },
        {
          "output_type": "stream",
          "name": "stdout",
          "text": [
            "İşleniyor: OZATD.IS\n",
            "İşleniyor: OZRDN.IS\n",
            "İşleniyor: OZSUB.IS\n"
          ]
        },
        {
          "output_type": "stream",
          "name": "stderr",
          "text": [
            "\n",
            "[*********************100%***********************]  1 of 1 completed\n",
            "[*********************100%***********************]  1 of 1 completed\n"
          ]
        },
        {
          "output_type": "stream",
          "name": "stdout",
          "text": [
            "İşleniyor: OZYSR.IS\n",
            "İşleniyor: PAGYO.IS\n",
            "İşleniyor: PAMEL.IS\n"
          ]
        },
        {
          "output_type": "stream",
          "name": "stderr",
          "text": [
            "[*********************100%***********************]  1 of 1 completed\n",
            "[*********************100%***********************]  1 of 1 completed\n",
            "[*********************100%***********************]  1 of 1 completed\n"
          ]
        },
        {
          "output_type": "stream",
          "name": "stdout",
          "text": [
            "İşleniyor: PAPIL.IS\n",
            "İşleniyor: PARSN.IS\n",
            "İşleniyor: PASEU.IS\n"
          ]
        },
        {
          "output_type": "stream",
          "name": "stderr",
          "text": [
            "[*********************100%***********************]  1 of 1 completed\n",
            "[*********************100%***********************]  1 of 1 completed\n",
            "[*********************100%***********************]  1 of 1 completed\n",
            "[*********************100%***********************]  1 of 1 completed\n"
          ]
        },
        {
          "output_type": "stream",
          "name": "stdout",
          "text": [
            "İşleniyor: PATEK.IS\n",
            "İşleniyor: PCILT.IS\n",
            "İşleniyor: PEKGY.IS\n"
          ]
        },
        {
          "output_type": "stream",
          "name": "stderr",
          "text": [
            "[*********************100%***********************]  1 of 1 completed\n",
            "[*********************100%***********************]  1 of 1 completed\n"
          ]
        },
        {
          "output_type": "stream",
          "name": "stdout",
          "text": [
            "İşleniyor: PENGD.IS\n",
            "İşleniyor: PENTA.IS\n",
            "İşleniyor: PETKM.IS\n"
          ]
        },
        {
          "output_type": "stream",
          "name": "stderr",
          "text": [
            "[*********************100%***********************]  1 of 1 completed\n",
            "[*********************100%***********************]  1 of 1 completed\n",
            "[*********************100%***********************]  1 of 1 completed\n"
          ]
        },
        {
          "output_type": "stream",
          "name": "stdout",
          "text": [
            "İşleniyor: PETUN.IS\n",
            "İşleniyor: PGSUS.IS\n",
            "İşleniyor: PINSU.IS\n"
          ]
        },
        {
          "output_type": "stream",
          "name": "stderr",
          "text": [
            "[*********************100%***********************]  1 of 1 completed\n",
            "[*********************100%***********************]  1 of 1 completed\n",
            "[*********************100%***********************]  1 of 1 completed\n"
          ]
        },
        {
          "output_type": "stream",
          "name": "stdout",
          "text": [
            "İşleniyor: PKART.IS\n",
            "İşleniyor: PKENT.IS\n",
            "İşleniyor: PLTUR.IS\n"
          ]
        },
        {
          "output_type": "stream",
          "name": "stderr",
          "text": [
            "[*********************100%***********************]  1 of 1 completed\n",
            "[*********************100%***********************]  1 of 1 completed\n"
          ]
        },
        {
          "output_type": "stream",
          "name": "stdout",
          "text": [
            "İşleniyor: PNLSN.IS\n",
            "İşleniyor: PNSUT.IS\n"
          ]
        },
        {
          "output_type": "stream",
          "name": "stderr",
          "text": [
            "[*********************100%***********************]  1 of 1 completed\n",
            "[*********************100%***********************]  1 of 1 completed\n",
            "[*********************100%***********************]  1 of 1 completed\n"
          ]
        },
        {
          "output_type": "stream",
          "name": "stdout",
          "text": [
            "İşleniyor: POLHO.IS\n",
            "İşleniyor: POLTK.IS\n",
            "İşleniyor: PRDGS.IS\n"
          ]
        },
        {
          "output_type": "stream",
          "name": "stderr",
          "text": [
            "[*********************100%***********************]  1 of 1 completed\n",
            "[*********************100%***********************]  1 of 1 completed\n",
            "[*********************100%***********************]  1 of 1 completed\n"
          ]
        },
        {
          "output_type": "stream",
          "name": "stdout",
          "text": [
            "İşleniyor: PRKAB.IS\n",
            "İşleniyor: PRKME.IS\n",
            "İşleniyor: PRZMA.IS\n"
          ]
        },
        {
          "output_type": "stream",
          "name": "stderr",
          "text": [
            "[*********************100%***********************]  1 of 1 completed\n",
            "[*********************100%***********************]  1 of 1 completed\n",
            "[*********************100%***********************]  1 of 1 completed\n"
          ]
        },
        {
          "output_type": "stream",
          "name": "stdout",
          "text": [
            "İşleniyor: PSDTC.IS\n",
            "İşleniyor: QNBFB.IS\n",
            "İşleniyor: QNBFL.IS\n"
          ]
        },
        {
          "output_type": "stream",
          "name": "stderr",
          "text": [
            "[*********************100%***********************]  1 of 1 completed\n",
            "[*********************100%***********************]  1 of 1 completed\n",
            "[*********************100%***********************]  1 of 1 completed\n"
          ]
        },
        {
          "output_type": "stream",
          "name": "stdout",
          "text": [
            "İşleniyor: QUAGR.IS\n",
            "İşleniyor: RALYH.IS\n",
            "İşleniyor: RAYSG.IS\n"
          ]
        },
        {
          "output_type": "stream",
          "name": "stderr",
          "text": [
            "[*********************100%***********************]  1 of 1 completed\n",
            "[*********************100%***********************]  1 of 1 completed\n",
            "[*********************100%***********************]  1 of 1 completed\n"
          ]
        },
        {
          "output_type": "stream",
          "name": "stdout",
          "text": [
            "İşleniyor: REEDR.IS\n",
            "İşleniyor: RGYAS.IS\n",
            "İşleniyor: RNPOL.IS\n"
          ]
        },
        {
          "output_type": "stream",
          "name": "stderr",
          "text": [
            "[*********************100%***********************]  1 of 1 completed\n",
            "[*********************100%***********************]  1 of 1 completed\n",
            "[*********************100%***********************]  1 of 1 completed\n"
          ]
        },
        {
          "output_type": "stream",
          "name": "stdout",
          "text": [
            "İşleniyor: RODRG.IS\n",
            "İşleniyor: RTALB.IS\n",
            "İşleniyor: RUBNS.IS\n"
          ]
        },
        {
          "output_type": "stream",
          "name": "stderr",
          "text": [
            "[*********************100%***********************]  1 of 1 completed\n",
            "[*********************100%***********************]  1 of 1 completed\n",
            "[*********************100%***********************]  1 of 1 completed\n"
          ]
        },
        {
          "output_type": "stream",
          "name": "stdout",
          "text": [
            "İşleniyor: RYSAS.IS\n",
            "İşleniyor: SAFKR.IS\n",
            "İşleniyor: SAHOL.IS\n"
          ]
        },
        {
          "output_type": "stream",
          "name": "stderr",
          "text": [
            "[*********************100%***********************]  1 of 1 completed\n",
            "[*********************100%***********************]  1 of 1 completed\n",
            "[*********************100%***********************]  1 of 1 completed\n"
          ]
        },
        {
          "output_type": "stream",
          "name": "stdout",
          "text": [
            "İşleniyor: SAMAT.IS\n",
            "İşleniyor: SANEL.IS\n",
            "İşleniyor: SANFM.IS\n"
          ]
        },
        {
          "output_type": "stream",
          "name": "stderr",
          "text": [
            "[*********************100%***********************]  1 of 1 completed\n",
            "[*********************100%***********************]  1 of 1 completed\n",
            "[*********************100%***********************]  1 of 1 completed\n"
          ]
        },
        {
          "output_type": "stream",
          "name": "stdout",
          "text": [
            "İşleniyor: SANKO.IS\n",
            "İşleniyor: SARKY.IS\n",
            "İşleniyor: SASA.IS\n"
          ]
        },
        {
          "output_type": "stream",
          "name": "stderr",
          "text": [
            "[*********************100%***********************]  1 of 1 completed\n",
            "[*********************100%***********************]  1 of 1 completed\n",
            "[*********************100%***********************]  1 of 1 completed\n"
          ]
        },
        {
          "output_type": "stream",
          "name": "stdout",
          "text": [
            "İşleniyor: SAYAS.IS\n",
            "İşleniyor: SDTTR.IS\n",
            "İşleniyor: SEGMN.IS\n"
          ]
        },
        {
          "output_type": "stream",
          "name": "stderr",
          "text": [
            "[*********************100%***********************]  1 of 1 completed\n",
            "[*********************100%***********************]  1 of 1 completed\n",
            "[*********************100%***********************]  1 of 1 completed\n"
          ]
        },
        {
          "output_type": "stream",
          "name": "stdout",
          "text": [
            "İşleniyor: SEGYO.IS\n",
            "İşleniyor: SEKFK.IS\n",
            "İşleniyor: SEKUR.IS\n"
          ]
        },
        {
          "output_type": "stream",
          "name": "stderr",
          "text": [
            "[*********************100%***********************]  1 of 1 completed\n",
            "[*********************100%***********************]  1 of 1 completed\n",
            "[*********************100%***********************]  1 of 1 completed\n"
          ]
        },
        {
          "output_type": "stream",
          "name": "stdout",
          "text": [
            "İşleniyor: SELEC.IS\n",
            "İşleniyor: SELGD.IS\n",
            "İşleniyor: SELVA.IS\n"
          ]
        },
        {
          "output_type": "stream",
          "name": "stderr",
          "text": [
            "[*********************100%***********************]  1 of 1 completed\n",
            "[*********************100%***********************]  1 of 1 completed\n",
            "[*********************100%***********************]  1 of 1 completed\n"
          ]
        },
        {
          "output_type": "stream",
          "name": "stdout",
          "text": [
            "İşleniyor: SEYKM.IS\n",
            "İşleniyor: SILVR.IS\n"
          ]
        },
        {
          "output_type": "stream",
          "name": "stderr",
          "text": [
            "[*********************100%***********************]  1 of 1 completed\n",
            "[*********************100%***********************]  1 of 1 completed"
          ]
        },
        {
          "output_type": "stream",
          "name": "stdout",
          "text": [
            "İşleniyor: SISE.IS\n",
            "İşleniyor: SKBNK.IS\n",
            "İşleniyor: SKTAS.IS\n"
          ]
        },
        {
          "output_type": "stream",
          "name": "stderr",
          "text": [
            "\n",
            "[*********************100%***********************]  1 of 1 completed\n",
            "[*********************100%***********************]  1 of 1 completed\n",
            "[*********************100%***********************]  1 of 1 completed\n"
          ]
        },
        {
          "output_type": "stream",
          "name": "stdout",
          "text": [
            "İşleniyor: SKYLP.IS\n",
            "İşleniyor: SKYMD.IS\n",
            "İşleniyor: SMART.IS\n"
          ]
        },
        {
          "output_type": "stream",
          "name": "stderr",
          "text": [
            "\r[*********************100%***********************]  1 of 1 completed\n"
          ]
        },
        {
          "output_type": "stream",
          "name": "stdout",
          "text": [
            "İşleniyor: SMRTG.IS\n"
          ]
        },
        {
          "output_type": "stream",
          "name": "stderr",
          "text": [
            "[*********************100%***********************]  1 of 1 completed\n",
            "[*********************100%***********************]  1 of 1 completed\n",
            "[*********************100%***********************]  1 of 1 completed\n"
          ]
        },
        {
          "output_type": "stream",
          "name": "stdout",
          "text": [
            "İşleniyor: SNICA.IS\n",
            "İşleniyor: SNKRN.IS\n",
            "İşleniyor: SNPAM.IS\n"
          ]
        },
        {
          "output_type": "stream",
          "name": "stderr",
          "text": [
            "[*********************100%***********************]  1 of 1 completed\n",
            "[*********************100%***********************]  1 of 1 completed\n",
            "[*********************100%***********************]  1 of 1 completed"
          ]
        },
        {
          "output_type": "stream",
          "name": "stdout",
          "text": [
            "İşleniyor: SODSN.IS\n",
            "İşleniyor: SOKE.IS\n",
            "İşleniyor: SOKM.IS\n"
          ]
        },
        {
          "output_type": "stream",
          "name": "stderr",
          "text": [
            "\n",
            "[*********************100%***********************]  1 of 1 completed\n",
            "[*********************100%***********************]  1 of 1 completed\n",
            "[*********************100%***********************]  1 of 1 completed\n"
          ]
        },
        {
          "output_type": "stream",
          "name": "stdout",
          "text": [
            "İşleniyor: SONME.IS\n",
            "İşleniyor: SRVGY.IS\n",
            "İşleniyor: SUMAS.IS\n"
          ]
        },
        {
          "output_type": "stream",
          "name": "stderr",
          "text": [
            "[*********************100%***********************]  1 of 1 completed\n",
            "[*********************100%***********************]  1 of 1 completed\n",
            "[*********************100%***********************]  1 of 1 completed"
          ]
        },
        {
          "output_type": "stream",
          "name": "stdout",
          "text": [
            "İşleniyor: SUNTK.IS\n",
            "İşleniyor: SURGY.IS\n"
          ]
        },
        {
          "output_type": "stream",
          "name": "stderr",
          "text": [
            "\n",
            "[*********************100%***********************]  1 of 1 completed\n",
            "[*********************100%***********************]  1 of 1 completed\n"
          ]
        },
        {
          "output_type": "stream",
          "name": "stdout",
          "text": [
            "İşleniyor: SUWEN.IS\n",
            "İşleniyor: TABGD.IS\n",
            "İşleniyor: TARKM.IS\n"
          ]
        },
        {
          "output_type": "stream",
          "name": "stderr",
          "text": [
            "[*********************100%***********************]  1 of 1 completed\n",
            "[*********************100%***********************]  1 of 1 completed\n",
            "[*********************100%***********************]  1 of 1 completed\n"
          ]
        },
        {
          "output_type": "stream",
          "name": "stdout",
          "text": [
            "İşleniyor: TATEN.IS\n",
            "İşleniyor: TATGD.IS\n",
            "İşleniyor: TAVHL.IS\n"
          ]
        },
        {
          "output_type": "stream",
          "name": "stderr",
          "text": [
            "[*********************100%***********************]  1 of 1 completed\n",
            "[*********************100%***********************]  1 of 1 completed\n"
          ]
        },
        {
          "output_type": "stream",
          "name": "stdout",
          "text": [
            "İşleniyor: TBORG.IS\n",
            "İşleniyor: TCELL.IS\n"
          ]
        },
        {
          "output_type": "stream",
          "name": "stderr",
          "text": [
            "[*********************100%***********************]  1 of 1 completed\n",
            "[*********************100%***********************]  1 of 1 completed\n",
            "[*********************100%***********************]  1 of 1 completed\n"
          ]
        },
        {
          "output_type": "stream",
          "name": "stdout",
          "text": [
            "İşleniyor: TCKRC.IS\n",
            "İşleniyor: TDGYO.IS\n",
            "İşleniyor: TEKTU.IS\n"
          ]
        },
        {
          "output_type": "stream",
          "name": "stderr",
          "text": [
            "[*********************100%***********************]  1 of 1 completed\n",
            "[*********************100%***********************]  1 of 1 completed\n",
            "[*********************100%***********************]  1 of 1 completed"
          ]
        },
        {
          "output_type": "stream",
          "name": "stdout",
          "text": [
            "İşleniyor: TERA.IS\n",
            "İşleniyor: TEZOL.IS\n"
          ]
        },
        {
          "output_type": "stream",
          "name": "stderr",
          "text": [
            "\n",
            "[*********************100%***********************]  1 of 1 completed\n",
            "[*********************100%***********************]  1 of 1 completed\n"
          ]
        },
        {
          "output_type": "stream",
          "name": "stdout",
          "text": [
            "İşleniyor: TGSAS.IS\n",
            "İşleniyor: THYAO.IS\n",
            "İşleniyor: TKFEN.IS\n"
          ]
        },
        {
          "output_type": "stream",
          "name": "stderr",
          "text": [
            "[*********************100%***********************]  1 of 1 completed\n",
            "[*********************100%***********************]  1 of 1 completed\n",
            "[*********************100%***********************]  1 of 1 completed\n"
          ]
        },
        {
          "output_type": "stream",
          "name": "stdout",
          "text": [
            "İşleniyor: TKNSA.IS\n",
            "İşleniyor: TLMAN.IS\n",
            "İşleniyor: TMPOL.IS\n"
          ]
        },
        {
          "output_type": "stream",
          "name": "stderr",
          "text": [
            "[*********************100%***********************]  1 of 1 completed\n",
            "[*********************100%***********************]  1 of 1 completed\n",
            "[*********************100%***********************]  1 of 1 completed\n"
          ]
        },
        {
          "output_type": "stream",
          "name": "stdout",
          "text": [
            "İşleniyor: TMSN.IS\n",
            "İşleniyor: TNZTP.IS\n",
            "İşleniyor: TOASO.IS\n"
          ]
        },
        {
          "output_type": "stream",
          "name": "stderr",
          "text": [
            "[*********************100%***********************]  1 of 1 completed\n",
            "[*********************100%***********************]  1 of 1 completed\n",
            "[*********************100%***********************]  1 of 1 completed\n"
          ]
        },
        {
          "output_type": "stream",
          "name": "stdout",
          "text": [
            "İşleniyor: TRCAS.IS\n",
            "İşleniyor: TRILC.IS\n",
            "İşleniyor: TSKB.IS\n"
          ]
        },
        {
          "output_type": "stream",
          "name": "stderr",
          "text": [
            "[*********************100%***********************]  1 of 1 completed\n",
            "[*********************100%***********************]  1 of 1 completed\n",
            "[*********************100%***********************]  1 of 1 completed\n"
          ]
        },
        {
          "output_type": "stream",
          "name": "stdout",
          "text": [
            "İşleniyor: TSPOR.IS\n",
            "İşleniyor: TTKOM.IS\n",
            "İşleniyor: TTRAK.IS\n"
          ]
        },
        {
          "output_type": "stream",
          "name": "stderr",
          "text": [
            "[*********************100%***********************]  1 of 1 completed\n",
            "[*********************100%***********************]  1 of 1 completed\n",
            "[*********************100%***********************]  1 of 1 completed\n"
          ]
        },
        {
          "output_type": "stream",
          "name": "stdout",
          "text": [
            "İşleniyor: TUCLK.IS\n",
            "İşleniyor: TUKAS.IS\n",
            "İşleniyor: TUPRS.IS\n"
          ]
        },
        {
          "output_type": "stream",
          "name": "stderr",
          "text": [
            "[*********************100%***********************]  1 of 1 completed\n",
            "[*********************100%***********************]  1 of 1 completed\n",
            "[*********************100%***********************]  1 of 1 completed"
          ]
        },
        {
          "output_type": "stream",
          "name": "stdout",
          "text": [
            "İşleniyor: TUREX.IS\n",
            "İşleniyor: TURGG.IS\n"
          ]
        },
        {
          "output_type": "stream",
          "name": "stderr",
          "text": [
            "\n",
            "[*********************100%***********************]  1 of 1 completed\n",
            "[*********************100%***********************]  1 of 1 completed\n"
          ]
        },
        {
          "output_type": "stream",
          "name": "stdout",
          "text": [
            "İşleniyor: TURSG.IS\n",
            "İşleniyor: UFUK.IS\n",
            "İşleniyor: ULAS.IS\n"
          ]
        },
        {
          "output_type": "stream",
          "name": "stderr",
          "text": [
            "[*********************100%***********************]  1 of 1 completed\n",
            "[*********************100%***********************]  1 of 1 completed\n",
            "[*********************100%***********************]  1 of 1 completed\n"
          ]
        },
        {
          "output_type": "stream",
          "name": "stdout",
          "text": [
            "İşleniyor: ULKER.IS\n",
            "İşleniyor: ULUFA.IS\n",
            "İşleniyor: ULUSE.IS\n"
          ]
        },
        {
          "output_type": "stream",
          "name": "stderr",
          "text": [
            "[*********************100%***********************]  1 of 1 completed\n",
            "[*********************100%***********************]  1 of 1 completed\n",
            "[*********************100%***********************]  1 of 1 completed\n"
          ]
        },
        {
          "output_type": "stream",
          "name": "stdout",
          "text": [
            "İşleniyor: ULUUN.IS\n",
            "İşleniyor: UNLU.IS\n",
            "İşleniyor: USAK.IS\n"
          ]
        },
        {
          "output_type": "stream",
          "name": "stderr",
          "text": [
            "[*********************100%***********************]  1 of 1 completed\n",
            "[*********************100%***********************]  1 of 1 completed\n",
            "[*********************100%***********************]  1 of 1 completed\n"
          ]
        },
        {
          "output_type": "stream",
          "name": "stdout",
          "text": [
            "İşleniyor: VAKBN.IS\n",
            "İşleniyor: VAKFN.IS\n",
            "İşleniyor: VAKKO.IS\n"
          ]
        },
        {
          "output_type": "stream",
          "name": "stderr",
          "text": [
            "[*********************100%***********************]  1 of 1 completed\n",
            "[*********************100%***********************]  1 of 1 completed\n",
            "[*********************100%***********************]  1 of 1 completed\n"
          ]
        },
        {
          "output_type": "stream",
          "name": "stdout",
          "text": [
            "İşleniyor: VANGD.IS\n",
            "İşleniyor: VBTYZ.IS\n",
            "İşleniyor: VERUS.IS\n"
          ]
        },
        {
          "output_type": "stream",
          "name": "stderr",
          "text": [
            "[*********************100%***********************]  1 of 1 completed\n",
            "[*********************100%***********************]  1 of 1 completed\n",
            "[*********************100%***********************]  1 of 1 completed\n"
          ]
        },
        {
          "output_type": "stream",
          "name": "stdout",
          "text": [
            "İşleniyor: VESBE.IS\n",
            "İşleniyor: VESTL.IS\n",
            "İşleniyor: VKFYO.IS\n"
          ]
        },
        {
          "output_type": "stream",
          "name": "stderr",
          "text": [
            "[*********************100%***********************]  1 of 1 completed\n",
            "[*********************100%***********************]  1 of 1 completed\n",
            "[*********************100%***********************]  1 of 1 completed\n"
          ]
        },
        {
          "output_type": "stream",
          "name": "stdout",
          "text": [
            "İşleniyor: VKING.IS\n",
            "İşleniyor: VRGYO.IS\n",
            "İşleniyor: YAPRK.IS\n"
          ]
        },
        {
          "output_type": "stream",
          "name": "stderr",
          "text": [
            "[*********************100%***********************]  1 of 1 completed\n",
            "[*********************100%***********************]  1 of 1 completed\n",
            "[*********************100%***********************]  1 of 1 completed\n"
          ]
        },
        {
          "output_type": "stream",
          "name": "stdout",
          "text": [
            "İşleniyor: YATAS.IS\n",
            "İşleniyor: YAYLA.IS\n",
            "İşleniyor: YBTAS.IS\n"
          ]
        },
        {
          "output_type": "stream",
          "name": "stderr",
          "text": [
            "[*********************100%***********************]  1 of 1 completed\n",
            "[*********************100%***********************]  1 of 1 completed\n",
            "[*********************100%***********************]  1 of 1 completed\n"
          ]
        },
        {
          "output_type": "stream",
          "name": "stdout",
          "text": [
            "İşleniyor: YEOTK.IS\n",
            "İşleniyor: YESIL.IS\n",
            "İşleniyor: YGGYO.IS\n"
          ]
        },
        {
          "output_type": "stream",
          "name": "stderr",
          "text": [
            "[*********************100%***********************]  1 of 1 completed\n",
            "[*********************100%***********************]  1 of 1 completed\n",
            "[*********************100%***********************]  1 of 1 completed\n"
          ]
        },
        {
          "output_type": "stream",
          "name": "stdout",
          "text": [
            "İşleniyor: YIGIT.IS\n",
            "İşleniyor: YKBNK.IS\n",
            "İşleniyor: YKSLN.IS\n"
          ]
        },
        {
          "output_type": "stream",
          "name": "stderr",
          "text": [
            "[*********************100%***********************]  1 of 1 completed\n",
            "[*********************100%***********************]  1 of 1 completed\n"
          ]
        },
        {
          "output_type": "stream",
          "name": "stdout",
          "text": [
            "İşleniyor: YONGA.IS\n",
            "İşleniyor: YUNSA.IS\n"
          ]
        },
        {
          "output_type": "stream",
          "name": "stderr",
          "text": [
            "[*********************100%***********************]  1 of 1 completed\n",
            "[*********************100%***********************]  1 of 1 completed\n",
            "[*********************100%***********************]  1 of 1 completed\n"
          ]
        },
        {
          "output_type": "stream",
          "name": "stdout",
          "text": [
            "İşleniyor: YYAPI.IS\n",
            "İşleniyor: YYLGD.IS\n",
            "İşleniyor: ZEDUR.IS\n"
          ]
        },
        {
          "output_type": "stream",
          "name": "stderr",
          "text": [
            "[*********************100%***********************]  1 of 1 completed\n",
            "[*********************100%***********************]  1 of 1 completed\n",
            "[*********************100%***********************]  1 of 1 completed"
          ]
        },
        {
          "output_type": "stream",
          "name": "stdout",
          "text": [
            "İşleniyor: ZOREN.IS\n",
            "İşleniyor: ZRGYO.IS\n",
            "\n",
            "Toplam Al Sinyali Veren Hisse Sayısı: 0\n",
            "\n"
          ]
        },
        {
          "output_type": "stream",
          "name": "stderr",
          "text": [
            "\n"
          ]
        }
      ]
    },
    {
      "cell_type": "code",
      "source": [],
      "metadata": {
        "id": "ek7j5gPBf30I"
      },
      "execution_count": null,
      "outputs": []
    }
  ]
}